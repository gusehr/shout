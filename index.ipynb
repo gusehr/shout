{
 "cells": [
  {
   "cell_type": "markdown",
   "metadata": {},
   "source": [
    "# Análise Exploratória"
   ]
  },
  {
   "cell_type": "markdown",
   "metadata": {},
   "source": [
    "<div style=\"text-align:justify\">\n",
    "Este notebook realiza uma análise exploratória sobre os dados de Cadastro de Empresas Inidôneas e Suspensas (CEIS), disponíveis no Portal da Transparência e Controladoria Geral da União (CGU), acessíveis através do [Link](http://www.portaltransparencia.gov.br/downloads/snapshot.asp?c=CEIS#get).\n",
    "</div>"
   ]
  },
  {
   "cell_type": "markdown",
   "metadata": {},
   "source": [
    "### Carregando Pacotes"
   ]
  },
  {
   "cell_type": "code",
   "execution_count": 12,
   "metadata": {},
   "outputs": [
    {
     "name": "stdout",
     "output_type": "stream",
     "text": [
      "Populating the interactive namespace from numpy and matplotlib\n"
     ]
    }
   ],
   "source": [
    "import matplotlib.pyplot\n",
    "import pandas as pd\n",
    "import seaborn as sns\n",
    "\n",
    "import unicodedata\n",
    "import re\n",
    "\n",
    "%matplotlib inline\n",
    "%pylab inline"
   ]
  },
  {
   "cell_type": "markdown",
   "metadata": {},
   "source": [
    "### Carregando Dados"
   ]
  },
  {
   "cell_type": "markdown",
   "metadata": {},
   "source": [
    "<div style=\"text-align:justify\">\n",
    "Os dados carregados apresentam: <br><br>\n",
    "Tipo de Pessoa; CPF ou CNPJ do Sancionado; Nome Informado pelo Órgão Sancionador; Razão Social - Cadastro Receita; Nome Fantasia - Cadastro Receita; Número do processo; Tipo Sanção; Data Início Sanção; Data Final Sanção; Órgão Sancionador; UF Órgão Sancionador; Origem Informações; Data Origem Informações; Data Publicação; Publicação; Detalhamento; Abrangência definida em decisão judicial; Fundamentação Legal; Descrição da Fundamentação Legal; Data do Trânsito em Julgado; Complemento do Órgão; e Contato da Origem da Informação.\n",
    "</div>"
   ]
  },
  {
   "cell_type": "code",
   "execution_count": 13,
   "metadata": {},
   "outputs": [
    {
     "data": {
      "text/plain": [
       "Tipo de Pessoa                              12537\n",
       "CPF ou CNPJ do Sancionado                   12537\n",
       "Nome Informado pelo Órgão Sancionador       12537\n",
       "Razão Social - Cadastro Receita             12531\n",
       "Nome Fantasia - Cadastro Receita             4528\n",
       "Número do processo                          12537\n",
       "Tipo Sanção                                 12537\n",
       "Data Início Sanção                          12537\n",
       "Data Final Sanção                           11384\n",
       "Órgão Sancionador                           12536\n",
       "UF Órgão Sancionador                        11547\n",
       "Origem Informações                          12537\n",
       "Data Origem Informações                     12537\n",
       "Data Publicação                              6166\n",
       "Publicação                                   5076\n",
       "Detalhamento                                 2181\n",
       "Abrangência definida em decisão judicial     1243\n",
       "Fundamentação Legal                         12147\n",
       "Descrição da Fundamentação Legal            12147\n",
       "Data do Trânsito em Julgado                  5384\n",
       "Complemento do Órgão                         2367\n",
       "Contato da Origem da Informação             12537\n",
       "dtype: int64"
      ]
     },
     "execution_count": 13,
     "metadata": {},
     "output_type": "execute_result"
    }
   ],
   "source": [
    "dataset = pd.read_csv(\"datasets/20180331_CEIS.csv\", sep=';', encoding='latin1')\n",
    "dataset.count()"
   ]
  },
  {
   "cell_type": "markdown",
   "metadata": {},
   "source": [
    "### Hipóteses de Análise:"
   ]
  },
  {
   "cell_type": "markdown",
   "metadata": {},
   "source": [
    "- H1: Existe alguma predominância pelo tipo de pessoa\n",
    "- H2: Existe alguma predominância pelo tipo de sanção\n",
    "- H3: Algum orgão sancionador é mais predominante\n",
    "- H4: Proporção de sanções por fundamentação legal"
   ]
  },
  {
   "cell_type": "markdown",
   "metadata": {},
   "source": [
    "### H1: Predominância por Tipo de Pessoa"
   ]
  },
  {
   "cell_type": "markdown",
   "metadata": {},
   "source": [
    "<div style=\"text-align:justify\">\n",
    "Podemos notar que não há predominância no número de sanções de acordo com o tipo de pessoa, muito embora a maior parte das sanções estejam associadas a Pessoas Jurídicas.\n",
    "</div>"
   ]
  },
  {
   "cell_type": "code",
   "execution_count": 14,
   "metadata": {},
   "outputs": [
    {
     "data": {
      "text/plain": [
       "Juridica    6772\n",
       "Fisica      5765\n",
       "Name: Tipo de Pessoa, dtype: int64"
      ]
     },
     "execution_count": 14,
     "metadata": {},
     "output_type": "execute_result"
    }
   ],
   "source": [
    "dataset[u\"Tipo de Pessoa\"].value_counts()"
   ]
  },
  {
   "cell_type": "markdown",
   "metadata": {},
   "source": [
    "### H2: Predominância pelo Tipo de Sanção"
   ]
  },
  {
   "cell_type": "markdown",
   "metadata": {},
   "source": [
    "<div style=\"text-align:justify\">\n",
    "Podemos notar que existe predominância por tipo de sanção, onde o maior número de ocorrências é por _Proibição - Lei de Improbidade_, com 5982 sanções; seguido de 2160 _Impedimento - Lei do Pregão_ com e 2051 _Suspensão - Lei de Licitações_.\n",
    "</div>"
   ]
  },
  {
   "cell_type": "code",
   "execution_count": 15,
   "metadata": {},
   "outputs": [
    {
     "data": {
      "text/plain": [
       "Proibição - Lei de Improbidade                                 5982\n",
       "Impedimento - Lei do Pregão                                    2160\n",
       "Suspensão - Lei de Licitações                                  2051\n",
       "Inidoneidade - Lei de Licitações                                685\n",
       "Inidoneidade - Legislação Estadual                              408\n",
       "Decisão judicial liminar/cautelar que impeça contratação        242\n",
       "Proibição - Lei Eleitoral                                       241\n",
       "Inidoneidade - Lei da ANTT e ANTAQ                              196\n",
       "Suspensão - Legislação Estadual                                 195\n",
       "Inidoneidade - Lei Orgânica TCU                                 193\n",
       "Impedimento - Legislação Estadual                                76\n",
       "Suspensão - Legislação Municipal                                 22\n",
       "Inidoneidade - Legislação Municipal                              17\n",
       "Proibição - Lei Antitruste                                       16\n",
       "Impedimento. Art. 28, Decreto 5450/2005                          15\n",
       "Suspensão - Lei das Estatais                                     10\n",
       "Impedimento - Lei do RDC                                          9\n",
       "Suspensão - Decreto ANEEL                                         8\n",
       "Proibição - Lei ambiental                                         3\n",
       "Decisão judicial em execução cível que impeça a contratação       3\n",
       "Impedimento - Legislação Municipal                                2\n",
       "Proibição - Lei Antitruste - Escopo Limitado                      1\n",
       "Requisição - Ministério Público                                   1\n",
       "Suspensão e Impedimento - Lei de Acesso à Informação              1\n",
       "Name: Tipo Sanção, dtype: int64"
      ]
     },
     "execution_count": 15,
     "metadata": {},
     "output_type": "execute_result"
    }
   ],
   "source": [
    "dataset[u\"Tipo Sanção\"].value_counts()"
   ]
  },
  {
   "cell_type": "markdown",
   "metadata": {},
   "source": [
    "<div style=\"text-align:justify\">\n",
    "Vamos agora fazer uma análise mais detalhada, avaliando a predominância de tipo de sanções por pessoa jurídica. Podemos notar que o maior número de ocorrências é o _Impedimento - Lei do Pregão_, com 2125 sanções; seguido de 1953 _Suspensão - Lei de Licitações_ e 663 _Inidoneidade - Lei de Licitações_.\n",
    "</div>"
   ]
  },
  {
   "cell_type": "code",
   "execution_count": 16,
   "metadata": {},
   "outputs": [
    {
     "data": {
      "text/plain": [
       "Impedimento - Lei do Pregão                                    2125\n",
       "Suspensão - Lei de Licitações                                  1953\n",
       "Inidoneidade - Lei de Licitações                                663\n",
       "Proibição - Lei de Improbidade                                  562\n",
       "Inidoneidade - Legislação Estadual                              393\n",
       "Proibição - Lei Eleitoral                                       240\n",
       "Inidoneidade - Lei da ANTT e ANTAQ                              196\n",
       "Inidoneidade - Lei Orgânica TCU                                 189\n",
       "Suspensão - Legislação Estadual                                 176\n",
       "Decisão judicial liminar/cautelar que impeça contratação        106\n",
       "Impedimento - Legislação Estadual                                71\n",
       "Suspensão - Legislação Municipal                                 22\n",
       "Inidoneidade - Legislação Municipal                              17\n",
       "Impedimento. Art. 28, Decreto 5450/2005                          15\n",
       "Suspensão - Lei das Estatais                                     10\n",
       "Proibição - Lei Antitruste                                        9\n",
       "Impedimento - Lei do RDC                                          9\n",
       "Suspensão - Decreto ANEEL                                         6\n",
       "Proibição - Lei ambiental                                         3\n",
       "Impedimento - Legislação Municipal                                2\n",
       "Decisão judicial em execução cível que impeça a contratação       2\n",
       "Requisição - Ministério Público                                   1\n",
       "Suspensão e Impedimento - Lei de Acesso à Informação              1\n",
       "Proibição - Lei Antitruste - Escopo Limitado                      1\n",
       "Name: Tipo Sanção, dtype: int64"
      ]
     },
     "execution_count": 16,
     "metadata": {},
     "output_type": "execute_result"
    }
   ],
   "source": [
    "dataset.loc[dataset[u\"Tipo de Pessoa\"] == \"Juridica\"][u\"Tipo Sanção\"].value_counts()"
   ]
  },
  {
   "cell_type": "markdown",
   "metadata": {},
   "source": [
    "<div style=\"text-align:justify\">\n",
    "Vamos agora fazer uma análise mais detalhada, avaliando a predominância de tipo de sanções por pessoa física. Podemos notar que é predominante o número de sanções do tipo _Proibição - Lei de Improbidade_, com 5420 ocorrências. Os demais tipo de sanções ocorrerm em número bem baixo, se comparado com este citado anteriormente.\n",
    "</div>"
   ]
  },
  {
   "cell_type": "code",
   "execution_count": 17,
   "metadata": {},
   "outputs": [
    {
     "data": {
      "text/plain": [
       "Proibição - Lei de Improbidade                                 5420\n",
       "Decisão judicial liminar/cautelar que impeça contratação        136\n",
       "Suspensão - Lei de Licitações                                    98\n",
       "Impedimento - Lei do Pregão                                      35\n",
       "Inidoneidade - Lei de Licitações                                 22\n",
       "Suspensão - Legislação Estadual                                  19\n",
       "Inidoneidade - Legislação Estadual                               15\n",
       "Proibição - Lei Antitruste                                        7\n",
       "Impedimento - Legislação Estadual                                 5\n",
       "Inidoneidade - Lei Orgânica TCU                                   4\n",
       "Suspensão - Decreto ANEEL                                         2\n",
       "Proibição - Lei Eleitoral                                         1\n",
       "Decisão judicial em execução cível que impeça a contratação       1\n",
       "Name: Tipo Sanção, dtype: int64"
      ]
     },
     "execution_count": 17,
     "metadata": {},
     "output_type": "execute_result"
    }
   ],
   "source": [
    "dataset.loc[dataset[u\"Tipo de Pessoa\"] == \"Fisica\"][u\"Tipo Sanção\"].value_counts()"
   ]
  },
  {
   "cell_type": "code",
   "execution_count": null,
   "metadata": {},
   "outputs": [],
   "source": []
  }
 ],
 "metadata": {
  "kernelspec": {
   "display_name": "Python 2",
   "language": "python",
   "name": "python2"
  },
  "language_info": {
   "codemirror_mode": {
    "name": "ipython",
    "version": 2
   },
   "file_extension": ".py",
   "mimetype": "text/x-python",
   "name": "python",
   "nbconvert_exporter": "python",
   "pygments_lexer": "ipython2",
   "version": "2.7.12"
  }
 },
 "nbformat": 4,
 "nbformat_minor": 2
}
