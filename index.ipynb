{
 "cells": [
  {
   "cell_type": "markdown",
   "metadata": {},
   "source": [
    "# Projeto Shout"
   ]
  },
  {
   "cell_type": "markdown",
   "metadata": {},
   "source": [
    "<div style=\"text-align:justify\">\n",
    "O projeto shout é um projeto de software de código aberto, cujo objetivo é identificar irregularidades em contratos entre órgãos públicos e prestadores de serviços. Este notebook indexa as análises todos as análises exploratórias e os modelos experimentais aplicados sobre os dados.\n",
    "</div>"
   ]
  },
  {
   "cell_type": "markdown",
   "metadata": {},
   "source": [
    "### Análise Exploratória de Dados"
   ]
  },
  {
   "cell_type": "markdown",
   "metadata": {},
   "source": [
    "<div style=\"text-align:justify\">\n",
    "A seguir, os notebooks de análise exploratória de dados.\n",
    "</div>"
   ]
  },
  {
   "cell_type": "markdown",
   "metadata": {},
   "source": [
    "- [Empresas Inidôneas e Suspensas (CEIS)](notebooks/empresas_inidoneas_suspensas.ipynb)\n",
    "- [Entidades sem Fins Lucrativos Impedidas (CEPIM)](notebooks/entidades_sem_fins_lucrativos_impedidas.ipynb)\n",
    "- [Empresas Punidas (CNPE)](notebooks/empresas_punidas.ipynb)"
   ]
  },
  {
   "cell_type": "markdown",
   "metadata": {},
   "source": [
    "## Próximos Passos"
   ]
  },
  {
   "cell_type": "markdown",
   "metadata": {},
   "source": [
    "- Localizar pagamentos e transações realizados para alguma das pessoas físicas ou jurídicas relacioadas.\n",
    "- Elencar as fontes abertas para recuperação de features das pessoas físicas e jurídicas.\n",
    "- Coletar dados features e compor um vetor de características.\n",
    "- Aplicar uma análise de variância para entender o grau discriminativo de cada feature.\n",
    "- Criar um modelo de classificação e medir a performance."
   ]
  },
  {
   "cell_type": "markdown",
   "metadata": {},
   "source": [
    "## Execução"
   ]
  },
  {
   "cell_type": "markdown",
   "metadata": {},
   "source": [
    "- [Pagamentos para empresas sancionadas](datasets/pagamentos/pagamentos_empresas_sancionadas.ipynb)"
   ]
  },
  {
   "cell_type": "code",
   "execution_count": null,
   "metadata": {},
   "outputs": [],
   "source": []
  }
 ],
 "metadata": {
  "kernelspec": {
   "display_name": "Python 2",
   "language": "python",
   "name": "python2"
  },
  "language_info": {
   "codemirror_mode": {
    "name": "ipython",
    "version": 2
   },
   "file_extension": ".py",
   "mimetype": "text/x-python",
   "name": "python",
   "nbconvert_exporter": "python",
   "pygments_lexer": "ipython2",
   "version": "2.7.12"
  }
 },
 "nbformat": 4,
 "nbformat_minor": 2
}
