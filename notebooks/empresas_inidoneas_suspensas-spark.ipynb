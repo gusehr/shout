{
 "cells": [
  {
   "cell_type": "markdown",
   "metadata": {},
   "source": [
    "# Análise Exploratória - Empresas Inidôneas e Suspensas"
   ]
  },
  {
   "cell_type": "markdown",
   "metadata": {},
   "source": [
    "<div style=\"text-align:justify\">\n",
    "Este notebook realiza uma análise exploratória sobre os dados de Cadastro de Empresas Inidôneas e Suspensas (CEIS), disponíveis no Portal da Transparência e Controladoria Geral da União (CGU), acessíveis através do [Link](http://www.portaltransparencia.gov.br/downloads/snapshot.asp?c=CEIS#get).\n",
    "</div>"
   ]
  },
  {
   "cell_type": "markdown",
   "metadata": {},
   "source": [
    "<div style=\"text-align:justify\">\n",
    "Este notebook está sendo convertido de Pandas para Apache Spark\n",
    "https://ogirardot.wordpress.com/2015/07/31/from-pandas-to-apache-sparks-dataframe//\n",
    "</div>"
   ]
  },
  {
   "cell_type": "markdown",
   "metadata": {},
   "source": [
    "## Carregando Pacotes"
   ]
  },
  {
   "cell_type": "code",
   "execution_count": 2,
   "metadata": {},
   "outputs": [
    {
     "name": "stdout",
     "output_type": "stream",
     "text": [
      "Populating the interactive namespace from numpy and matplotlib\n"
     ]
    }
   ],
   "source": [
    "import matplotlib.pyplot as plt\n",
    "import pandas as pd\n",
    "import seaborn as sns\n",
    "from pyspark.sql import SparkSession\n",
    "import pyspark.sql.functions as func\n",
    "\n",
    "\n",
    "import unicodedata\n",
    "import re\n",
    "\n",
    "%matplotlib inline\n",
    "%pylab inline"
   ]
  },
  {
   "cell_type": "markdown",
   "metadata": {},
   "source": [
    "## Carregando Dados"
   ]
  },
  {
   "cell_type": "markdown",
   "metadata": {},
   "source": [
    "<div style=\"text-align:justify\">\n",
    "Os dados carregados apresentam: <br><br>\n",
    "Tipo de Pessoa; CPF ou CNPJ do Sancionado; Nome Informado pelo Órgão Sancionador; Razão Social - Cadastro Receita; Nome Fantasia - Cadastro Receita; Número do processo; Tipo Sanção; Data Início Sanção; Data Final Sanção; Órgão Sancionador; UF Órgão Sancionador; Origem Informações; Data Origem Informações; Data Publicação; Publicação; Detalhamento; Abrangência definida em decisão judicial; Fundamentação Legal; Descrição da Fundamentação Legal; Data do Trânsito em Julgado; Complemento do Órgão; e Contato da Origem da Informação.\n",
    "</div>"
   ]
  },
  {
   "cell_type": "code",
   "execution_count": 3,
   "metadata": {},
   "outputs": [
    {
     "name": "stdout",
     "output_type": "stream",
     "text": [
      "root\n",
      " |-- Tipo de Pessoa: string (nullable = true)\n",
      " |-- CPF ou CNPJ do Sancionado: string (nullable = true)\n",
      " |-- Nome Informado pelo Órgão Sancionador: string (nullable = true)\n",
      " |-- Razão Social - Cadastro Receita: string (nullable = true)\n",
      " |-- Nome Fantasia - Cadastro Receita: string (nullable = true)\n",
      " |-- Número do processo: string (nullable = true)\n",
      " |-- Tipo Sanção: string (nullable = true)\n",
      " |-- Data Início Sanção: string (nullable = true)\n",
      " |-- Data Final Sanção: string (nullable = true)\n",
      " |-- Órgão Sancionador: string (nullable = true)\n",
      " |-- UF Órgão Sancionador: string (nullable = true)\n",
      " |-- Origem Informações: string (nullable = true)\n",
      " |-- Data Origem Informações: string (nullable = true)\n",
      " |-- Data Publicação: string (nullable = true)\n",
      " |-- Publicação: string (nullable = true)\n",
      " |-- Detalhamento: string (nullable = true)\n",
      " |-- Abrangência definida em decisão judicial: string (nullable = true)\n",
      " |-- Fundamentação Legal: string (nullable = true)\n",
      " |-- Descrição da Fundamentação Legal: string (nullable = true)\n",
      " |-- Data do Trânsito em Julgado: string (nullable = true)\n",
      " |-- Complemento do Órgão: string (nullable = true)\n",
      " |-- Contato da Origem da Informação: string (nullable = true)\n",
      "\n",
      "+--------------+-------------------------+-------------------------------------+-------------------------------+--------------------------------+------------------+-----------+------------------+-----------------+-----------------+--------------------+------------------+-----------------------+---------------+----------+------------+----------------------------------------+-------------------+--------------------------------+---------------------------+--------------------+-------------------------------+\n",
      "|Tipo de Pessoa|CPF ou CNPJ do Sancionado|Nome Informado pelo Órgão Sancionador|Razão Social - Cadastro Receita|Nome Fantasia - Cadastro Receita|Número do processo|Tipo Sanção|Data Início Sanção|Data Final Sanção|Órgão Sancionador|UF Órgão Sancionador|Origem Informações|Data Origem Informações|Data Publicação|Publicação|Detalhamento|Abrangência definida em decisão judicial|Fundamentação Legal|Descrição da Fundamentação Legal|Data do Trânsito em Julgado|Complemento do Órgão|Contato da Origem da Informação|\n",
      "+--------------+-------------------------+-------------------------------------+-------------------------------+--------------------------------+------------------+-----------+------------------+-----------------+-----------------+--------------------+------------------+-----------------------+---------------+----------+------------+----------------------------------------+-------------------+--------------------------------+---------------------------+--------------------+-------------------------------+\n",
      "|         12537|                    12537|                                12537|                          12531|                            4528|             12537|      12537|             12537|            12537|            12536|               11547|             12537|                  12537|          12537|      5076|        2181|                                    1243|              12147|                           12147|                      12537|                2367|                          12537|\n",
      "+--------------+-------------------------+-------------------------------------+-------------------------------+--------------------------------+------------------+-----------+------------------+-----------------+-----------------+--------------------+------------------+-----------------------+---------------+----------+------------+----------------------------------------+-------------------+--------------------------------+---------------------------+--------------------+-------------------------------+\n",
      "\n"
     ]
    }
   ],
   "source": [
    "spark = SparkSession.builder.appName(\"dataset\").getOrCreate()\n",
    "\n",
    "dataframeSpark = spark.read.csv(\"../datasets/sancoes/20180331_CEIS.csv\", header=True, sep=\";\", encoding='latin1').cache()\n",
    "dataframeSpark.printSchema()\n",
    "\n",
    "summary = dataframeSpark.describe() \\\n",
    "    .filter(func.col(\"summary\") == \"count\") \\\n",
    "    .select(*(func.col(c).alias(c) for c in dataframeSpark.columns)) \\\n",
    "    .show()\n"
   ]
  },
  {
   "cell_type": "markdown",
   "metadata": {},
   "source": [
    "Nota: Avaliar como transpor os dados para melhorar a visualização"
   ]
  },
  {
   "cell_type": "code",
   "execution_count": 4,
   "metadata": {},
   "outputs": [
    {
     "data": {
      "text/plain": [
       "Tipo de Pessoa                              12537\n",
       "CPF ou CNPJ do Sancionado                   12537\n",
       "Nome Informado pelo Órgão Sancionador       12537\n",
       "Razão Social - Cadastro Receita             12531\n",
       "Nome Fantasia - Cadastro Receita             4528\n",
       "Número do processo                          12537\n",
       "Tipo Sanção                                 12537\n",
       "Data Início Sanção                          12537\n",
       "Data Final Sanção                           11384\n",
       "Órgão Sancionador                           12536\n",
       "UF Órgão Sancionador                        11547\n",
       "Origem Informações                          12537\n",
       "Data Origem Informações                     12537\n",
       "Data Publicação                              6166\n",
       "Publicação                                   5076\n",
       "Detalhamento                                 2181\n",
       "Abrangência definida em decisão judicial     1243\n",
       "Fundamentação Legal                         12147\n",
       "Descrição da Fundamentação Legal            12147\n",
       "Data do Trânsito em Julgado                  5384\n",
       "Complemento do Órgão                         2367\n",
       "Contato da Origem da Informação             12537\n",
       "dtype: int64"
      ]
     },
     "execution_count": 4,
     "metadata": {},
     "output_type": "execute_result"
    }
   ],
   "source": [
    "dataset = pd.read_csv(\"../datasets/sancoes/20180331_CEIS.csv\", sep=';', encoding='latin1')\n",
    "dataset.count()"
   ]
  },
  {
   "cell_type": "markdown",
   "metadata": {},
   "source": [
    "## Hipóteses de Análise:"
   ]
  },
  {
   "cell_type": "markdown",
   "metadata": {},
   "source": [
    "- H1: Existe alguma predominância pelo tipo de pessoa\n",
    "- H2: Existe alguma predominância pelo tipo de sanção\n",
    "- H3: Algum orgão sancionador é mais predominante\n",
    "- H4: Existe alguma predominância por UF do órgão sancionador\n",
    "- H5: Existe alguma predominância por origem da informação"
   ]
  },
  {
   "cell_type": "markdown",
   "metadata": {},
   "source": [
    "### H1: Predominância por Tipo de Pessoa"
   ]
  },
  {
   "cell_type": "markdown",
   "metadata": {},
   "source": [
    "<div style=\"text-align:justify\">\n",
    "Podemos notar que não há predominância no número de sanções de acordo com o tipo de pessoa, muito embora a maior parte das sanções estejam associadas a Pessoas Jurídicas.\n",
    "</div>"
   ]
  },
  {
   "cell_type": "code",
   "execution_count": 5,
   "metadata": {},
   "outputs": [
    {
     "name": "stdout",
     "output_type": "stream",
     "text": [
      "+--------------+-----+\n",
      "|Tipo de Pessoa|total|\n",
      "+--------------+-----+\n",
      "|      Juridica| 6772|\n",
      "|        Fisica| 5765|\n",
      "+--------------+-----+\n",
      "\n"
     ]
    },
    {
     "data": {
      "text/plain": [
       "Juridica    6772\n",
       "Fisica      5765\n",
       "Name: Tipo de Pessoa, dtype: int64"
      ]
     },
     "execution_count": 5,
     "metadata": {},
     "output_type": "execute_result"
    }
   ],
   "source": [
    "countByTipoPessoa = dataframeSpark \\\n",
    "    .groupBy(u\"Tipo de Pessoa\") \\\n",
    "    .agg(func.count(\"*\").alias(\"total\")) \\\n",
    "    .orderBy(func.desc(\"total\")) \\\n",
    "    .cache()\n",
    "\n",
    "countByTipoPessoa.show()\n",
    "\n",
    "dataset[u\"Tipo de Pessoa\"].value_counts()"
   ]
  },
  {
   "cell_type": "markdown",
   "metadata": {},
   "source": [
    "### H2: Predominância pelo Tipo de Sanção"
   ]
  },
  {
   "cell_type": "markdown",
   "metadata": {},
   "source": [
    "#### Tipo de Sanção Pessoa Física"
   ]
  },
  {
   "cell_type": "markdown",
   "metadata": {},
   "source": [
    "<div style=\"text-align:justify\">\n",
    "Vamos agora fazer uma análise mais detalhada, avaliando a predominância de tipo de sanções por pessoa física. Podemos notar que é predominante o número de sanções do tipo _Proibição - Lei de Improbidade_, com 5420 ocorrências. Os demais tipo de sanções ocorrerm em número bem baixo, se comparado com este citado anteriormente.\n",
    "</div>"
   ]
  },
  {
   "cell_type": "code",
   "execution_count": 6,
   "metadata": {},
   "outputs": [
    {
     "name": "stdout",
     "output_type": "stream",
     "text": [
      "+--------------------+-----+\n",
      "|         Tipo Sanção|total|\n",
      "+--------------------+-----+\n",
      "|Proibição - Lei d...| 5420|\n",
      "|Decisão judicial ...|  136|\n",
      "|Suspensão - Lei d...|   98|\n",
      "|Impedimento - Lei...|   35|\n",
      "|Inidoneidade - Le...|   22|\n",
      "|Suspensão - Legis...|   19|\n",
      "|Inidoneidade - Le...|   15|\n",
      "|Proibição - Lei A...|    7|\n",
      "|Impedimento - Leg...|    5|\n",
      "|Inidoneidade - Le...|    4|\n",
      "+--------------------+-----+\n",
      "only showing top 10 rows\n",
      "\n"
     ]
    },
    {
     "data": {
      "text/plain": [
       "Proibição - Lei de Improbidade                              5420\n",
       "Decisão judicial liminar/cautelar que impeça contratação     136\n",
       "Suspensão - Lei de Licitações                                 98\n",
       "Impedimento - Lei do Pregão                                   35\n",
       "Inidoneidade - Lei de Licitações                              22\n",
       "Suspensão - Legislação Estadual                               19\n",
       "Inidoneidade - Legislação Estadual                            15\n",
       "Proibição - Lei Antitruste                                     7\n",
       "Impedimento - Legislação Estadual                              5\n",
       "Inidoneidade - Lei Orgânica TCU                                4\n",
       "Name: Tipo Sanção, dtype: int64"
      ]
     },
     "execution_count": 6,
     "metadata": {},
     "output_type": "execute_result"
    }
   ],
   "source": [
    "countByTipoSancaoPessoaFisica = dataframeSpark \\\n",
    "    .filter(func.col(u\"Tipo de Pessoa\") == \"Fisica\") \\\n",
    "    .groupBy(u\"Tipo Sanção\") \\\n",
    "    .agg(func.count(\"*\").alias(\"total\")) \\\n",
    "    .orderBy(func.desc(\"total\")) \\\n",
    "    .cache()\n",
    "\n",
    "countByTipoSancaoPessoaFisica.show(10)\n",
    "\n",
    "\n",
    "dataset.loc[dataset[u\"Tipo de Pessoa\"] == \"Fisica\"][u\"Tipo Sanção\"].value_counts().head(10)"
   ]
  },
  {
   "cell_type": "markdown",
   "metadata": {},
   "source": [
    "<div style=\"text-align:justify\">\n",
    "Analisando os cinco primeiros registros, notamos que quase 95% das sanções relacionadas a pessoa física são de _Proibição - Lei de Improbidade_, ou seja; enriquecimento ilicito.\n",
    "</div>"
   ]
  },
  {
   "cell_type": "code",
   "execution_count": 26,
   "metadata": {},
   "outputs": [
    {
     "name": "stdout",
     "output_type": "stream",
     "text": [
      "+--------------------+--------------------+\n",
      "|         Tipo Sanção|                perc|\n",
      "+--------------------+--------------------+\n",
      "|Proibição - Lei d...|  0.9401561144839549|\n",
      "|Decisão judicial ...|0.023590633130962706|\n",
      "|Suspensão - Lei d...| 0.01699913269731136|\n",
      "|Impedimento - Lei...|0.006071118820468344|\n",
      "|Inidoneidade - Le...|0.003816131830008673|\n",
      "+--------------------+--------------------+\n",
      "only showing top 5 rows\n",
      "\n"
     ]
    },
    {
     "data": {
      "text/plain": [
       "Proibição - Lei de Improbidade                              0.940156\n",
       "Decisão judicial liminar/cautelar que impeça contratação    0.023591\n",
       "Suspensão - Lei de Licitações                               0.016999\n",
       "Impedimento - Lei do Pregão                                 0.006071\n",
       "Inidoneidade - Lei de Licitações                            0.003816\n",
       "Name: Tipo Sanção, dtype: float64"
      ]
     },
     "execution_count": 26,
     "metadata": {},
     "output_type": "execute_result"
    }
   ],
   "source": [
    "qtdPessoaFisica = dataframeSpark \\\n",
    "    .filter(func.col(u\"Tipo de Pessoa\") == \"Fisica\") \\\n",
    "    .count()\n",
    "    \n",
    "percByTipoSancaoPessoaFisica = dataframeSpark \\\n",
    "    .filter(func.col(u\"Tipo de Pessoa\") == \"Fisica\") \\\n",
    "    .groupBy(u\"Tipo Sanção\") \\\n",
    "    .agg(func.count(\"*\").alias(\"total\")) \\\n",
    "    .orderBy(func.desc(\"total\")) \\\n",
    "    .cache() \\\n",
    "    .withColumn('perc', func.col(\"total\")/float(qtdPessoaFisica)) \\\n",
    "    .drop(\"total\")\n",
    "\n",
    "percByTipoSancaoPessoaFisica.show(5)\n",
    "\n",
    "\n",
    "tp_pf = dataset.loc[dataset[u\"Tipo de Pessoa\"] == \"Fisica\"][u\"Tipo Sanção\"].value_counts(normalize=True).head(5)\n",
    "tp_pf"
   ]
  },
  {
   "cell_type": "markdown",
   "metadata": {},
   "source": [
    "#### Representação Gráfica - Pessoa Física"
   ]
  },
  {
   "cell_type": "code",
   "execution_count": 8,
   "metadata": {
    "scrolled": false
   },
   "outputs": [
    {
     "name": "stderr",
     "output_type": "stream",
     "text": [
      "/home/gustavo/anaconda3/lib/python3.6/site-packages/seaborn/categorical.py:1460: FutureWarning: remove_na is deprecated and is a private function. Do not use.\n",
      "  stat_data = remove_na(group_data)\n"
     ]
    },
    {
     "data": {
      "image/png": "[encoded data removed]",
      "text/plain": [
       "<matplotlib.figure.Figure at 0x7fa8baffcb38>"
      ]
     },
     "metadata": {},
     "output_type": "display_data"
    },
    {
     "data": {
      "image/png": "[encoded data removed]",
      "text/plain": [
       "<matplotlib.figure.Figure at 0x7fa8ba4ad7b8>"
      ]
     },
     "metadata": {},
     "output_type": "display_data"
    }
   ],
   "source": [
    "plt.figure(figsize=(16, 5))\n",
    "percTipoSancao = np.array(percByTipoSancaoPessoaFisica.select(\"perc\").collect()).ravel()\n",
    "percTipoSancao = percTipoSancao[:5]\n",
    "sns.barplot(list(range(1, percTipoSancao.size + 1)), percTipoSancao, alpha=0.8)\n",
    "plt.title(u\"Tipo de Sanção - Pessoa Física\")\n",
    "plt.ylabel(u\"Ocorrências\", fontsize=12)\n",
    "plt.xlabel(u\"Tipo de Sanção\", fontsize=12)\n",
    "plt.show()\n",
    "\n",
    "plt.figure(figsize=(16, 5))\n",
    "sns.barplot(list(range(1, tp_pf.count() + 1)), tp_pf.values, alpha=0.8)\n",
    "plt.title(u\"Tipo de Sanção - Pessoa Física\")\n",
    "plt.ylabel(u\"Ocorrências\", fontsize=12)\n",
    "plt.xlabel(u\"Tipo de Sanção\", fontsize=12)\n",
    "plt.show()"
   ]
  },
  {
   "cell_type": "markdown",
   "metadata": {},
   "source": [
    "#### Tipo de Sanção Pessoa Jurídica"
   ]
  },
  {
   "cell_type": "markdown",
   "metadata": {},
   "source": [
    "<div style=\"text-align:justify\">\n",
    "Vamos agora analisar a predominância de tipo de sanções por pessoa jurídica. Podemos notar que o maior número de ocorrências é o _Impedimento - Lei do Pregão_, com 2125 sanções; seguido de 1953 _Suspensão - Lei de Licitações_.\n",
    "</div>"
   ]
  },
  {
   "cell_type": "code",
   "execution_count": 9,
   "metadata": {},
   "outputs": [
    {
     "name": "stdout",
     "output_type": "stream",
     "text": [
      "+--------------------+-----+\n",
      "|         Tipo Sanção|total|\n",
      "+--------------------+-----+\n",
      "|Impedimento - Lei...| 2125|\n",
      "|Suspensão - Lei d...| 1953|\n",
      "|Inidoneidade - Le...|  663|\n",
      "|Proibição - Lei d...|  562|\n",
      "|Inidoneidade - Le...|  393|\n",
      "|Proibição - Lei E...|  240|\n",
      "|Inidoneidade - Le...|  196|\n",
      "|Inidoneidade - Le...|  189|\n",
      "|Suspensão - Legis...|  176|\n",
      "|Decisão judicial ...|  106|\n",
      "+--------------------+-----+\n",
      "only showing top 10 rows\n",
      "\n"
     ]
    },
    {
     "data": {
      "text/plain": [
       "Impedimento - Lei do Pregão                                 2125\n",
       "Suspensão - Lei de Licitações                               1953\n",
       "Inidoneidade - Lei de Licitações                             663\n",
       "Proibição - Lei de Improbidade                               562\n",
       "Inidoneidade - Legislação Estadual                           393\n",
       "Proibição - Lei Eleitoral                                    240\n",
       "Inidoneidade - Lei da ANTT e ANTAQ                           196\n",
       "Inidoneidade - Lei Orgânica TCU                              189\n",
       "Suspensão - Legislação Estadual                              176\n",
       "Decisão judicial liminar/cautelar que impeça contratação     106\n",
       "Name: Tipo Sanção, dtype: int64"
      ]
     },
     "execution_count": 9,
     "metadata": {},
     "output_type": "execute_result"
    }
   ],
   "source": [
    "countByTipoSancaoPessoaJuridica = dataframeSpark \\\n",
    "    .filter(func.col(u\"Tipo de Pessoa\") == \"Juridica\") \\\n",
    "    .groupBy(u\"Tipo Sanção\") \\\n",
    "    .agg(func.count(\"*\").alias(\"total\")) \\\n",
    "    .orderBy(func.desc(\"total\")) \\\n",
    "    .cache()\n",
    "\n",
    "countByTipoSancaoPessoaJuridica.show(10)\n",
    "\n",
    "dataset.loc[dataset[u\"Tipo de Pessoa\"] == \"Juridica\"][u\"Tipo Sanção\"].value_counts().head(10)"
   ]
  },
  {
   "cell_type": "markdown",
   "metadata": {},
   "source": [
    "<div style=\"text-align:justify\">\n",
    "Analisando os cinco primeiros registros, notamos que os dois primeiros tipos de sanções de pessoa jurídica representam aproximadamente 30% cada, das sanções para esse grupo de pessoa.\n",
    "</div>"
   ]
  },
  {
   "cell_type": "code",
   "execution_count": 28,
   "metadata": {},
   "outputs": [
    {
     "name": "stdout",
     "output_type": "stream",
     "text": [
      "+--------------------+-------------------+\n",
      "|         Tipo Sanção|               perc|\n",
      "+--------------------+-------------------+\n",
      "|Impedimento - Lei...| 0.3137920850561134|\n",
      "|Suspensão - Lei d...| 0.2883933845245127|\n",
      "|Inidoneidade - Le...|0.09790313053750738|\n",
      "|Proibição - Lei d...|0.08298877731836976|\n",
      "|Inidoneidade - Le...| 0.0580330773774365|\n",
      "+--------------------+-------------------+\n",
      "only showing top 5 rows\n",
      "\n"
     ]
    },
    {
     "data": {
      "text/plain": [
       "Impedimento - Lei do Pregão           0.313792\n",
       "Suspensão - Lei de Licitações         0.288393\n",
       "Inidoneidade - Lei de Licitações      0.097903\n",
       "Proibição - Lei de Improbidade        0.082989\n",
       "Inidoneidade - Legislação Estadual    0.058033\n",
       "Name: Tipo Sanção, dtype: float64"
      ]
     },
     "execution_count": 28,
     "metadata": {},
     "output_type": "execute_result"
    }
   ],
   "source": [
    "qtdPessoaJuridica = dataframeSpark \\\n",
    "    .filter(func.col(u\"Tipo de Pessoa\") == \"Juridica\") \\\n",
    "    .count()\n",
    "    \n",
    "percByTipoSancaoPessoaJuridica = dataframeSpark \\\n",
    "    .filter(func.col(u\"Tipo de Pessoa\") == \"Juridica\") \\\n",
    "    .groupBy(u\"Tipo Sanção\") \\\n",
    "    .agg(func.count(\"*\").alias(\"total\")) \\\n",
    "    .orderBy(func.desc(\"total\")) \\\n",
    "    .cache() \\\n",
    "    .withColumn('perc', func.col(\"total\")/float(qtdPessoaJuridica)) \\\n",
    "    .drop(\"total\")\n",
    "\n",
    "percByTipoSancaoPessoaJuridica.show(5)\n",
    "\n",
    "tp_pj = dataset.loc[dataset[u\"Tipo de Pessoa\"] == \"Juridica\"][u\"Tipo Sanção\"].value_counts(normalize=True).head(5)\n",
    "tp_pj"
   ]
  },
  {
   "cell_type": "markdown",
   "metadata": {},
   "source": [
    "#### Representação Gráfica - Pessoa Jurídica"
   ]
  },
  {
   "cell_type": "code",
   "execution_count": 29,
   "metadata": {},
   "outputs": [
    {
     "name": "stderr",
     "output_type": "stream",
     "text": [
      "/home/gustavo/anaconda3/lib/python3.6/site-packages/seaborn/categorical.py:1460: FutureWarning: remove_na is deprecated and is a private function. Do not use.\n",
      "  stat_data = remove_na(group_data)\n"
     ]
    },
    {
     "data": {
      "image/png": "[encoded data removed]",
      "text/plain": [
       "<matplotlib.figure.Figure at 0x7fa8ba4b0908>"
      ]
     },
     "metadata": {},
     "output_type": "display_data"
    },
    {
     "data": {
      "image/png": "[encoded data removed]",
      "text/plain": [
       "<matplotlib.figure.Figure at 0x7fa8ba3357f0>"
      ]
     },
     "metadata": {},
     "output_type": "display_data"
    }
   ],
   "source": [
    "plt.figure(figsize=(16, 5))\n",
    "percTipoSancao = np.array(percByTipoSancaoPessoaJuridica.select(\"perc\").collect()).ravel()\n",
    "percTipoSancao = percTipoSancao[:5]\n",
    "sns.barplot(list(range(1, percTipoSancao.size + 1)), percTipoSancao, alpha=0.8)\n",
    "plt.title(u\"Tipo de Sanção - Pessoa Jurídica\")\n",
    "plt.ylabel(u\"Ocorrências\", fontsize=12)\n",
    "plt.xlabel(u\"Tipo de Sanção\", fontsize=12)\n",
    "plt.show()\n",
    "\n",
    "plt.figure(figsize=(16, 5))\n",
    "sns.barplot(list(range(1, tp_pj.count() + 1)), tp_pj.values, alpha=0.8)\n",
    "plt.title(u\"Tipo de Sanção - Pessoa Jurídica\")\n",
    "plt.ylabel(u\"Ocorrências\", fontsize=12)\n",
    "plt.xlabel(u\"Tipo de Sanção\", fontsize=12)\n",
    "plt.show()"
   ]
  },
  {
   "cell_type": "markdown",
   "metadata": {},
   "source": [
    "### H3: Predominância por Órgão Sancionador"
   ]
  },
  {
   "cell_type": "markdown",
   "metadata": {},
   "source": [
    "<div style=\"text-align:justify\">\n",
    "A maior parte das sanções são executadas pela Justiça Estadual, com 556 ocorrências; seguida da Justiça Federal com  366 e Procuradoria Geral do Estado, com 336 sanções.\n",
    "</div>"
   ]
  },
  {
   "cell_type": "code",
   "execution_count": 30,
   "metadata": {},
   "outputs": [
    {
     "name": "stdout",
     "output_type": "stream",
     "text": [
      "+--------------------+-----+\n",
      "|   Órgão Sancionador|total|\n",
      "+--------------------+-----+\n",
      "|    Justiça Estadual|  556|\n",
      "|     Justiça Federal|  366|\n",
      "|PROCURADORIA GERA...|  336|\n",
      "|Governo do Estado...|  305|\n",
      "|AGÊNCIA NACIONAL ...|  212|\n",
      "|EMPRESA BRASILEIR...|  194|\n",
      "|CAIXA ECONÔMICA F...|  181|\n",
      "|Governo do Estado...|  161|\n",
      "|Receita Federal d...|  131|\n",
      "|TRIBUNAL DE CONTA...|  125|\n",
      "+--------------------+-----+\n",
      "only showing top 10 rows\n",
      "\n"
     ]
    },
    {
     "data": {
      "text/plain": [
       "Justiça Estadual                               556\n",
       "Justiça Federal                                366\n",
       "PROCURADORIA GERAL DO ESTADO                   336\n",
       "Governo do Estado da Bahia                     305\n",
       "AGÊNCIA NACIONAL DE TRANSPORTES TERRESTRES     212\n",
       "EMPRESA BRASILEIRA DE CORREIOS E TELÉGRAFOS    194\n",
       "CAIXA ECONÔMICA FEDERAL                        181\n",
       "Governo do Estado da Bahia (BA)                161\n",
       "Receita Federal do Brasil                      131\n",
       "TRIBUNAL DE CONTAS DA UNIÃO                    125\n",
       "Name: Órgão Sancionador, dtype: int64"
      ]
     },
     "execution_count": 30,
     "metadata": {},
     "output_type": "execute_result"
    }
   ],
   "source": [
    "countByOrgaoSancionador = dataframeSpark \\\n",
    "    .groupBy(u\"Órgão Sancionador\") \\\n",
    "    .agg(func.count(\"*\").alias(\"total\")) \\\n",
    "    .orderBy(func.desc(\"total\")) \\\n",
    "    .cache()\n",
    "\n",
    "countByOrgaoSancionador.show(10)\n",
    "\n",
    "dataset[u\"Órgão Sancionador\"].value_counts().head(10)"
   ]
  },
  {
   "cell_type": "markdown",
   "metadata": {},
   "source": [
    "<div style=\"text-align:justify\">\n",
    "Quando analisamos em valores percentuais, observamos que não existe predominância em nenhum órgão sancionador; ou seja, há um balanceamento entre as sanções de todos os órgãos.\n",
    "</div>"
   ]
  },
  {
   "cell_type": "code",
   "execution_count": 31,
   "metadata": {},
   "outputs": [
    {
     "name": "stdout",
     "output_type": "stream",
     "text": [
      "+--------------------+--------------------+\n",
      "|   Órgão Sancionador|                perc|\n",
      "+--------------------+--------------------+\n",
      "|    Justiça Estadual|0.044348727765813195|\n",
      "|     Justiça Federal|0.029193586982531706|\n",
      "|PROCURADORIA GERA...| 0.02680067001675042|\n",
      "|Governo do Estado...|0.024327989152109757|\n",
      "|AGÊNCIA NACIONAL ...|0.016909946558187765|\n",
      "+--------------------+--------------------+\n",
      "only showing top 5 rows\n",
      "\n"
     ]
    },
    {
     "data": {
      "text/plain": [
       "Justiça Estadual                              0.044352\n",
       "Justiça Federal                               0.029196\n",
       "PROCURADORIA GERAL DO ESTADO                  0.026803\n",
       "Governo do Estado da Bahia                    0.024330\n",
       "AGÊNCIA NACIONAL DE TRANSPORTES TERRESTRES    0.016911\n",
       "Name: Órgão Sancionador, dtype: float64"
      ]
     },
     "execution_count": 31,
     "metadata": {},
     "output_type": "execute_result"
    }
   ],
   "source": [
    "qtdTotal = dataframeSpark.count()\n",
    "    \n",
    "percByOrgaoSancionador = dataframeSpark \\\n",
    "    .groupBy(u\"Órgão Sancionador\") \\\n",
    "    .agg(func.count(\"*\").alias(\"total\")) \\\n",
    "    .orderBy(func.desc(\"total\")) \\\n",
    "    .cache() \\\n",
    "    .withColumn('perc', func.col(\"total\")/float(qtdTotal)) \\\n",
    "    .drop(\"total\")\n",
    "\n",
    "percByOrgaoSancionador.show(5)\n",
    "\n",
    "dataset[u\"Órgão Sancionador\"].value_counts(normalize=True).head(5)"
   ]
  },
  {
   "cell_type": "markdown",
   "metadata": {},
   "source": [
    "### H4: Predominância por UF"
   ]
  },
  {
   "cell_type": "markdown",
   "metadata": {},
   "source": [
    "#### UR Órgão Sancionador - Pessoa Física"
   ]
  },
  {
   "cell_type": "markdown",
   "metadata": {},
   "source": [
    "<div style=\"text-align:justify\">\n",
    "Vamos verificar se existe predominância nas sanções por UF do Órgão Sancionador para cada tipo de pessoa. Começamos a análise com as sanções de pessoas físicas.\n",
    "</div>"
   ]
  },
  {
   "cell_type": "code",
   "execution_count": 37,
   "metadata": {},
   "outputs": [
    {
     "name": "stdout",
     "output_type": "stream",
     "text": [
      "+--------------------+-----+\n",
      "|UF Órgão Sancionador|total|\n",
      "+--------------------+-----+\n",
      "|                  SP| 1278|\n",
      "|                  PR|  335|\n",
      "|                  MG|  307|\n",
      "|                  RS|  272|\n",
      "|                  MA|  259|\n",
      "|                  RN|  234|\n",
      "|                  PE|  226|\n",
      "|                  RJ|  225|\n",
      "|                  PB|  186|\n",
      "|                  GO|  172|\n",
      "+--------------------+-----+\n",
      "only showing top 10 rows\n",
      "\n"
     ]
    },
    {
     "data": {
      "text/plain": [
       "SP    1278\n",
       "PR     335\n",
       "MG     307\n",
       "RS     272\n",
       "MA     259\n",
       "RN     234\n",
       "PE     226\n",
       "RJ     225\n",
       "PB     186\n",
       "GO     172\n",
       "Name: UF Órgão Sancionador, dtype: int64"
      ]
     },
     "execution_count": 37,
     "metadata": {},
     "output_type": "execute_result"
    }
   ],
   "source": [
    "countByUFOrgaoSancionadorPessoaFisica = dataframeSpark \\\n",
    "    .filter(func.col(u\"Tipo de Pessoa\") == \"Fisica\") \\\n",
    "    .filter(func.col(u\"UF Órgão Sancionador\").isNotNull()) \\\n",
    "    .groupBy(u\"UF Órgão Sancionador\") \\\n",
    "    .agg(func.count(\"*\").alias(\"total\")) \\\n",
    "    .orderBy(func.desc(\"total\")) \\\n",
    "    .cache()\n",
    "\n",
    "countByUFOrgaoSancionadorPessoaFisica.show(10)\n",
    "\n",
    "uf_pf = dataset.loc[dataset[u\"Tipo de Pessoa\"] == \"Fisica\"][u\"UF Órgão Sancionador\"].value_counts().head(10)\n",
    "uf_pf"
   ]
  },
  {
   "cell_type": "markdown",
   "metadata": {},
   "source": [
    "#### Representação Gráfica - Pessoa Física"
   ]
  },
  {
   "cell_type": "code",
   "execution_count": 57,
   "metadata": {},
   "outputs": [
    {
     "name": "stderr",
     "output_type": "stream",
     "text": [
      "/home/gustavo/anaconda3/lib/python3.6/site-packages/seaborn/categorical.py:1460: FutureWarning: remove_na is deprecated and is a private function. Do not use.\n",
      "  stat_data = remove_na(group_data)\n"
     ]
    },
    {
     "data": {
      "image/png": "[encoded data removed]",
      "text/plain": [
       "<matplotlib.figure.Figure at 0x7fa8bb290390>"
      ]
     },
     "metadata": {},
     "output_type": "display_data"
    },
    {
     "data": {
      "image/png": "[encoded data removed]",
      "text/plain": [
       "<matplotlib.figure.Figure at 0x7fa8b81c6da0>"
      ]
     },
     "metadata": {},
     "output_type": "display_data"
    }
   ],
   "source": [
    "plt.figure(figsize=(16, 5))\n",
    "qtdUFOrgaoSancionadorPessoaFisica = np.array(countByUFOrgaoSancionadorPessoaFisica.select(\"total\").collect()).ravel()\n",
    "qtdUFOrgaoSancionadorPessoaFisica = qtdUFOrgaoSancionadorPessoaFisica[:10]\n",
    "\n",
    "ufPessoaFisica = np.array(countByUFOrgaoSancionadorPessoaFisica.select(u\"UF Órgão Sancionador\").collect()).ravel()\n",
    "ufPessoaFisica = ufPessoaFisica[:10]\n",
    "\n",
    "\n",
    "sns.barplot(ufPessoaFisica, qtdUFOrgaoSancionadorPessoaFisica, alpha=0.8)\n",
    "plt.title(u\"UF Órgão Sancionador - Pessoa Física\")\n",
    "plt.ylabel(u\"Ocorrências\", fontsize=12)\n",
    "plt.xlabel(u\"Sanções por Estado\", fontsize=12)\n",
    "plt.show()\n",
    "\n",
    "plt.figure(figsize=(16, 5))\n",
    "sns.barplot(uf_pf.index, uf_pf.values, alpha=0.8)\n",
    "plt.title(u\"UF Órgão Sancionador - Pessoa Física\")\n",
    "plt.ylabel(u\"Ocorrências\", fontsize=12)\n",
    "plt.xlabel(u\"Sanções por Estado\", fontsize=12)\n",
    "plt.show()"
   ]
  },
  {
   "cell_type": "markdown",
   "metadata": {},
   "source": [
    "<div style=\"text-align:justify\">\n",
    "Ao exibir os valores percentuais, notamos que mais de 25% das sanções relacionadas as pessoas físicas se originam no estado de São Paulo. Os demais estados representam menos de 7% cada.\n",
    "</div>"
   ]
  },
  {
   "cell_type": "code",
   "execution_count": 49,
   "metadata": {},
   "outputs": [
    {
     "name": "stdout",
     "output_type": "stream",
     "text": [
      "+--------------------+-------------------+\n",
      "|UF Órgão Sancionador|               perc|\n",
      "+--------------------+-------------------+\n",
      "|                  SP|0.25849514563106796|\n",
      "|                  PR|0.06775889967637541|\n",
      "|                  MG|0.06209546925566343|\n",
      "|                  RS|0.05501618122977346|\n",
      "|                  MA|0.05238673139158576|\n",
      "+--------------------+-------------------+\n",
      "only showing top 5 rows\n",
      "\n"
     ]
    },
    {
     "data": {
      "text/plain": [
       "SP    0.258495\n",
       "PR    0.067759\n",
       "MG    0.062095\n",
       "RS    0.055016\n",
       "MA    0.052387\n",
       "Name: UF Órgão Sancionador, dtype: float64"
      ]
     },
     "execution_count": 49,
     "metadata": {},
     "output_type": "execute_result"
    }
   ],
   "source": [
    "qtdPessoaFisicaComUFSancionador = dataframeSpark \\\n",
    "    .filter(func.col(u\"Tipo de Pessoa\") == \"Fisica\") \\\n",
    "    .filter(func.col(u\"UF Órgão Sancionador\").isNotNull()) \\\n",
    "    .count()\n",
    "    \n",
    "percByOrgaoSancionador = dataframeSpark \\\n",
    "    .filter(func.col(u\"Tipo de Pessoa\") == \"Fisica\") \\\n",
    "    .filter(func.col(u\"UF Órgão Sancionador\").isNotNull()) \\\n",
    "    .groupBy(u\"UF Órgão Sancionador\") \\\n",
    "    .agg(func.count(\"*\").alias(\"total\")) \\\n",
    "    .orderBy(func.desc(\"total\")) \\\n",
    "    .cache() \\\n",
    "    .withColumn('perc', func.col(\"total\")/float(qtdPessoaFisicaComUFSancionador)) \\\n",
    "    .drop(\"total\")\n",
    "\n",
    "percByOrgaoSancionador.show(5)\n",
    "\n",
    "\n",
    "dataset.loc[dataset[u\"Tipo de Pessoa\"] == \"Fisica\"][u\"UF Órgão Sancionador\"].value_counts(normalize=True).head(5)"
   ]
  },
  {
   "cell_type": "markdown",
   "metadata": {},
   "source": [
    "<div style=\"text-align:justify\">\n",
    "É interessante notar que quase 96% das sanções relacionadas a pessoas físicas dos estado de São Paulo são referentes a _Proibição - Lei de Improbidade_, ou seja, segue a mesmo percentual geral.\n",
    "</div>"
   ]
  },
  {
   "cell_type": "code",
   "execution_count": 52,
   "metadata": {},
   "outputs": [
    {
     "name": "stdout",
     "output_type": "stream",
     "text": [
      "+--------------------+--------------------+\n",
      "|         Tipo Sanção|                perc|\n",
      "+--------------------+--------------------+\n",
      "|Proibição - Lei d...|  0.9585289514866979|\n",
      "|Decisão judicial ...|0.017214397496087636|\n",
      "|Suspensão - Lei d...|0.010172143974960876|\n",
      "|Inidoneidade - Le...| 0.00782472613458529|\n",
      "|Impedimento - Lei...|0.006259780907668232|\n",
      "+--------------------+--------------------+\n",
      "\n"
     ]
    },
    {
     "data": {
      "text/plain": [
       "Proibição - Lei de Improbidade                              0.958529\n",
       "Decisão judicial liminar/cautelar que impeça contratação    0.017214\n",
       "Suspensão - Lei de Licitações                               0.010172\n",
       "Inidoneidade - Lei de Licitações                            0.007825\n",
       "Impedimento - Lei do Pregão                                 0.006260\n",
       "Name: Tipo Sanção, dtype: float64"
      ]
     },
     "execution_count": 52,
     "metadata": {},
     "output_type": "execute_result"
    }
   ],
   "source": [
    "qtdPessoaFisicaComSancionadorSP = dataframeSpark \\\n",
    "    .filter(func.col(u\"Tipo de Pessoa\") == \"Fisica\") \\\n",
    "    .filter(func.col(u\"UF Órgão Sancionador\") == \"SP\") \\\n",
    "    .count()\n",
    "    \n",
    "percByTipoSancao = dataframeSpark \\\n",
    "    .filter(func.col(u\"Tipo de Pessoa\") == \"Fisica\") \\\n",
    "    .filter(func.col(u\"UF Órgão Sancionador\") == \"SP\") \\\n",
    "    .groupBy(u\"Tipo Sanção\") \\\n",
    "    .agg(func.count(\"*\").alias(\"total\")) \\\n",
    "    .orderBy(func.desc(\"total\")) \\\n",
    "    .cache() \\\n",
    "    .withColumn('perc', func.col(\"total\")/float(qtdPessoaFisicaComSancionadorSP)) \\\n",
    "    .drop(\"total\")\n",
    "\n",
    "percByTipoSancao.show(5)\n",
    "    \n",
    "    \n",
    "dataset.loc[ \\\n",
    "    (dataset[u\"Tipo de Pessoa\"] == \"Fisica\") & \\\n",
    "    (dataset[u\"UF Órgão Sancionador\"] == \"SP\") \\\n",
    "][u\"Tipo Sanção\"].value_counts(normalize=True).head(5)"
   ]
  },
  {
   "cell_type": "markdown",
   "metadata": {},
   "source": [
    "#### UR Órgão Sancionador - Pessoa Jurídica"
   ]
  },
  {
   "cell_type": "markdown",
   "metadata": {},
   "source": [
    "<div style=\"text-align:justify\">\n",
    "Quanto as sanções por UF do Órgão Sancionador para pessoa jurídica, notamos que os estados de São Paulo e Distrito Federal se destacam, seguidos da Bahia e Rio de Janeiro.\n",
    "</div>"
   ]
  },
  {
   "cell_type": "code",
   "execution_count": 53,
   "metadata": {},
   "outputs": [
    {
     "name": "stdout",
     "output_type": "stream",
     "text": [
      "+--------------------+-----+\n",
      "|UF Órgão Sancionador|total|\n",
      "+--------------------+-----+\n",
      "|                  DF| 1653|\n",
      "|                  SP| 1049|\n",
      "|                  BA|  602|\n",
      "|                  RJ|  459|\n",
      "|                  MG|  427|\n",
      "|                  PR|  404|\n",
      "|                  RS|  392|\n",
      "|                  SC|  194|\n",
      "|                  RN|  146|\n",
      "|                  ES|  124|\n",
      "+--------------------+-----+\n",
      "only showing top 10 rows\n",
      "\n"
     ]
    },
    {
     "data": {
      "text/plain": [
       "DF    1653\n",
       "SP    1049\n",
       "BA     602\n",
       "RJ     459\n",
       "MG     427\n",
       "PR     404\n",
       "RS     392\n",
       "SC     194\n",
       "RN     146\n",
       "ES     124\n",
       "Name: UF Órgão Sancionador, dtype: int64"
      ]
     },
     "execution_count": 53,
     "metadata": {},
     "output_type": "execute_result"
    }
   ],
   "source": [
    "countByUFOrgaoSancionadorPessoaJuridica = dataframeSpark \\\n",
    "    .filter(func.col(u\"Tipo de Pessoa\") == \"Juridica\") \\\n",
    "    .filter(func.col(u\"UF Órgão Sancionador\").isNotNull()) \\\n",
    "    .groupBy(u\"UF Órgão Sancionador\") \\\n",
    "    .agg(func.count(\"*\").alias(\"total\")) \\\n",
    "    .orderBy(func.desc(\"total\")) \\\n",
    "    .cache()\n",
    "\n",
    "countByUFOrgaoSancionadorPessoaJuridica.show(10)\n",
    "\n",
    "uf_pj = dataset.loc[dataset[u\"Tipo de Pessoa\"] == \"Juridica\"][u\"UF Órgão Sancionador\"].value_counts().head(10)\n",
    "uf_pj"
   ]
  },
  {
   "cell_type": "markdown",
   "metadata": {},
   "source": [
    "#### Representação Gráfica - Pessoa Jurídica"
   ]
  },
  {
   "cell_type": "code",
   "execution_count": 55,
   "metadata": {},
   "outputs": [
    {
     "name": "stderr",
     "output_type": "stream",
     "text": [
      "/home/gustavo/anaconda3/lib/python3.6/site-packages/seaborn/categorical.py:1460: FutureWarning: remove_na is deprecated and is a private function. Do not use.\n",
      "  stat_data = remove_na(group_data)\n"
     ]
    },
    {
     "data": {
      "image/png": "[encoded data removed]",
      "text/plain": [
       "<matplotlib.figure.Figure at 0x7fa8b8260be0>"
      ]
     },
     "metadata": {},
     "output_type": "display_data"
    },
    {
     "data": {
      "image/png": "[encoded data removed]",
      "text/plain": [
       "<matplotlib.figure.Figure at 0x7fa8b8846470>"
      ]
     },
     "metadata": {},
     "output_type": "display_data"
    }
   ],
   "source": [
    "plt.figure(figsize=(16, 5))\n",
    "qtdUFOrgaoSancionadorPessoaJuridica = np.array(countByUFOrgaoSancionadorPessoaJuridica.select(\"total\").collect()).ravel()\n",
    "qtdUFOrgaoSancionadorPessoaJuridica = qtdUFOrgaoSancionadorPessoaJuridica[:10]\n",
    "\n",
    "ufPessoaJuridica = np.array(countByUFOrgaoSancionadorPessoaJuridica.select(u\"UF Órgão Sancionador\").collect()).ravel()\n",
    "ufPessoaJuridica = ufPessoaJuridica[:10]\n",
    "\n",
    "sns.barplot(ufPessoaJuridica, qtdUFOrgaoSancionadorPessoaJuridica, alpha=0.8)\n",
    "plt.title(u\"UF Órgão Sancionador - Pessoa Jurídica\")\n",
    "plt.ylabel(u\"Ocorrências\", fontsize=12)\n",
    "plt.xlabel(u\"Sanções por Estado\", fontsize=12)\n",
    "plt.show()\n",
    "\n",
    "plt.figure(figsize=(16, 5))\n",
    "sns.barplot(uf_pj.index, uf_pj.values, alpha=0.8)\n",
    "plt.title(u\"UF Órgão Sancionador - Pessoa Jurídica\")\n",
    "plt.ylabel(u\"Ocorrências\", fontsize=12)\n",
    "plt.xlabel(u\"Sanções por Estado\", fontsize=12)\n",
    "plt.show()"
   ]
  },
  {
   "cell_type": "markdown",
   "metadata": {},
   "source": [
    "<div style=\"text-align:justify\">\n",
    "Ao exibir os valores percentuais, notamos que mais de 25% das sanções relacionadas as pessoas jurídicas se originam no estado do Distrito Federal, seguido de São Paulo com 15% e Bahia com 9%.\n",
    "</div>"
   ]
  },
  {
   "cell_type": "code",
   "execution_count": 58,
   "metadata": {},
   "outputs": [
    {
     "name": "stdout",
     "output_type": "stream",
     "text": [
      "+--------------------+-------------------+\n",
      "|UF Órgão Sancionador|               perc|\n",
      "+--------------------+-------------------+\n",
      "|                  DF| 0.2503407542026352|\n",
      "|                  SP|0.15886718158412844|\n",
      "|                  BA|0.09117067999394214|\n",
      "|                  RJ|0.06951385733757383|\n",
      "|                  MG|0.06466757534454036|\n",
      "+--------------------+-------------------+\n",
      "only showing top 5 rows\n",
      "\n"
     ]
    },
    {
     "data": {
      "text/plain": [
       "DF    0.250341\n",
       "SP    0.158867\n",
       "BA    0.091171\n",
       "RJ    0.069514\n",
       "MG    0.064668\n",
       "Name: UF Órgão Sancionador, dtype: float64"
      ]
     },
     "execution_count": 58,
     "metadata": {},
     "output_type": "execute_result"
    }
   ],
   "source": [
    "qtdPessoaJuridicaComUFSancionador = dataframeSpark \\\n",
    "    .filter(func.col(u\"Tipo de Pessoa\") == \"Juridica\") \\\n",
    "    .filter(func.col(u\"UF Órgão Sancionador\").isNotNull()) \\\n",
    "    .count()\n",
    "    \n",
    "percByOrgaoSancionador = dataframeSpark \\\n",
    "    .filter(func.col(u\"Tipo de Pessoa\") == \"Juridica\") \\\n",
    "    .filter(func.col(u\"UF Órgão Sancionador\").isNotNull()) \\\n",
    "    .groupBy(u\"UF Órgão Sancionador\") \\\n",
    "    .agg(func.count(\"*\").alias(\"total\")) \\\n",
    "    .orderBy(func.desc(\"total\")) \\\n",
    "    .cache() \\\n",
    "    .withColumn('perc', func.col(\"total\")/float(qtdPessoaJuridicaComUFSancionador)) \\\n",
    "    .drop(\"total\")\n",
    "\n",
    "percByOrgaoSancionador.show(5)\n",
    "\n",
    "dataset.loc[dataset[u\"Tipo de Pessoa\"] == \"Juridica\"][u\"UF Órgão Sancionador\"].value_counts(normalize=True).head(5)"
   ]
  },
  {
   "cell_type": "markdown",
   "metadata": {},
   "source": [
    "<div style=\"text-align:justify\">\n",
    "É interessante notar que aproximadamente 30% das sanções relacionadas a pessoas jurídica do estado do Distrito Federal são referentes a _Suspensão - Lei de Licitações_ e _Impedimento - Lei do Pregão_, ou seja, segue a mesmo percentual geral.\n",
    "</div>"
   ]
  },
  {
   "cell_type": "code",
   "execution_count": 59,
   "metadata": {},
   "outputs": [
    {
     "name": "stdout",
     "output_type": "stream",
     "text": [
      "+--------------------+-------------------+\n",
      "|         Tipo Sanção|               perc|\n",
      "+--------------------+-------------------+\n",
      "|Suspensão - Lei d...|0.33998790078644886|\n",
      "|Impedimento - Lei...| 0.2849364791288566|\n",
      "|Inidoneidade - Le...|0.11796733212341198|\n",
      "|Inidoneidade - Le...|0.11796733212341198|\n",
      "|Inidoneidade - Le...| 0.0852994555353902|\n",
      "+--------------------+-------------------+\n",
      "only showing top 5 rows\n",
      "\n"
     ]
    },
    {
     "data": {
      "text/plain": [
       "Suspensão - Lei de Licitações         0.339988\n",
       "Impedimento - Lei do Pregão           0.284936\n",
       "Inidoneidade - Lei de Licitações      0.117967\n",
       "Inidoneidade - Lei da ANTT e ANTAQ    0.117967\n",
       "Inidoneidade - Lei Orgânica TCU       0.085299\n",
       "Name: Tipo Sanção, dtype: float64"
      ]
     },
     "execution_count": 59,
     "metadata": {},
     "output_type": "execute_result"
    }
   ],
   "source": [
    "qtdPessoaJuridicaComSancionadorDF = dataframeSpark \\\n",
    "    .filter(func.col(u\"Tipo de Pessoa\") == \"Juridica\") \\\n",
    "    .filter(func.col(u\"UF Órgão Sancionador\") == \"DF\") \\\n",
    "    .count()\n",
    "    \n",
    "percByTipoSancao = dataframeSpark \\\n",
    "    .filter(func.col(u\"Tipo de Pessoa\") == \"Juridica\") \\\n",
    "    .filter(func.col(u\"UF Órgão Sancionador\") == \"DF\") \\\n",
    "    .groupBy(u\"Tipo Sanção\") \\\n",
    "    .agg(func.count(\"*\").alias(\"total\")) \\\n",
    "    .orderBy(func.desc(\"total\")) \\\n",
    "    .cache() \\\n",
    "    .withColumn('perc', func.col(\"total\")/float(qtdPessoaJuridicaComSancionadorDF)) \\\n",
    "    .drop(\"total\")\n",
    "\n",
    "percByTipoSancao.show(5)\n",
    "\n",
    "dataset.loc[ \\\n",
    "    (dataset[u\"Tipo de Pessoa\"] == \"Juridica\") & \\\n",
    "    (dataset[u\"UF Órgão Sancionador\"] == \"DF\") \\\n",
    "][u\"Tipo Sanção\"].value_counts(normalize=True).head(5)"
   ]
  },
  {
   "cell_type": "markdown",
   "metadata": {},
   "source": [
    "### H5: Predominância por Origem da Informação"
   ]
  },
  {
   "cell_type": "markdown",
   "metadata": {},
   "source": [
    "#### Origem das Sanções de Pessoa Física"
   ]
  },
  {
   "cell_type": "markdown",
   "metadata": {},
   "source": [
    "<div style=\"text-align:justify\">\n",
    "Mais de 81% das sanções relacionadas a pessoas físicas são originadas no Conselho Nacional de Justiça. Os demais órgãos possuem menos de 6% cada. As sanções de pessoas físicas são predominantes a uma origem.\n",
    "</div>"
   ]
  },
  {
   "cell_type": "code",
   "execution_count": 22,
   "metadata": {},
   "outputs": [
    {
     "data": {
      "text/plain": [
       "Conselho Nacional de Justiça              0.815785\n",
       "Governo do Estado de São Paulo            0.055854\n",
       "Governo do Estado do Rio Grande do Sul    0.013183\n",
       "ADVOCACIA-GERAL DA UNIÃO                  0.009540\n",
       "Justiça do Estado de São Paulo            0.007806\n",
       "Name: Origem Informações, dtype: float64"
      ]
     },
     "execution_count": 22,
     "metadata": {},
     "output_type": "execute_result"
    }
   ],
   "source": [
    "dataset.loc[dataset[u\"Tipo de Pessoa\"] == \"Fisica\"][u\"Origem Informações\"].value_counts(normalize=True).head(5)"
   ]
  },
  {
   "cell_type": "markdown",
   "metadata": {},
   "source": [
    "#### Origem das Sanções de Pessoa Jurídica"
   ]
  },
  {
   "cell_type": "markdown",
   "metadata": {},
   "source": [
    "<div style=\"text-align:justify\">\n",
    "Não existe predominância na origem das sanções abertas para pessoas jurídicas.\n",
    "</div>"
   ]
  },
  {
   "cell_type": "code",
   "execution_count": 23,
   "metadata": {},
   "outputs": [
    {
     "data": {
      "text/plain": [
       "Governo do Estado de São Paulo                 0.100856\n",
       "Governo do Estado da Bahia (BA)                0.071028\n",
       "Conselho Nacional de Justiça                   0.069699\n",
       "AGÊNCIA NACIONAL DE TRANSPORTES TERRESTRES     0.031305\n",
       "EMPRESA BRASILEIRA DE CORREIOS E TELÉGRAFOS    0.028647\n",
       "Name: Origem Informações, dtype: float64"
      ]
     },
     "execution_count": 23,
     "metadata": {},
     "output_type": "execute_result"
    }
   ],
   "source": [
    "dataset.loc[dataset[u\"Tipo de Pessoa\"] == \"Juridica\"][u\"Origem Informações\"].value_counts(normalize=True).head(5)"
   ]
  },
  {
   "cell_type": "markdown",
   "metadata": {},
   "source": [
    "### Top 5 Pessoas Físicas e Jurídicas"
   ]
  },
  {
   "cell_type": "markdown",
   "metadata": {},
   "source": [
    "<div style=\"text-align:justify\">\n",
    "A seguir, as Top 5 pessoas físicas com maior número de sanções registradas:\n",
    "</div>"
   ]
  },
  {
   "cell_type": "code",
   "execution_count": 24,
   "metadata": {},
   "outputs": [
    {
     "data": {
      "text/plain": [
       "LUIZ ANTONIO TREVISAN VEDOIN    34\n",
       "DARCI JOSE VEDOIN               31\n",
       "VALTERCIDES MONTEIRO            11\n",
       "MARCOS PEREZ                    11\n",
       "JOSE APARECIDO BRESSANE         10\n",
       "Name: Razão Social - Cadastro Receita, dtype: int64"
      ]
     },
     "execution_count": 24,
     "metadata": {},
     "output_type": "execute_result"
    }
   ],
   "source": [
    "dataset.loc[dataset[u\"Tipo de Pessoa\"] == \"Fisica\"][u\"Razão Social - Cadastro Receita\"].value_counts().head(5)"
   ]
  },
  {
   "cell_type": "markdown",
   "metadata": {},
   "source": [
    "<div style=\"text-align:justify\">\n",
    "A seguir, as Top 5 pessoas jurídicas com maior número de sanções registradas:\n",
    "</div>"
   ]
  },
  {
   "cell_type": "code",
   "execution_count": 25,
   "metadata": {},
   "outputs": [
    {
     "data": {
      "text/plain": [
       "VAN COOPER COOPERATIVA DE TRABALHO DOS TRANSPORTADORES RODOVIARIOS DE CARGAS, PASSAGEIROS E SERVICOS.    28\n",
       "SPEED  DISTRIBUIDORA E SERVICOS - EIRELI                                                                 23\n",
       "PH SERVICOS E ADMINISTRACAO LTDA                                                                         21\n",
       "COOPERSEMO COOPERATIVA DE SERVICOS DE TRANSPORTES                                                        18\n",
       "SANDES CONSERVACAO SERVICOS EIRELI                                                                       14\n",
       "Name: Razão Social - Cadastro Receita, dtype: int64"
      ]
     },
     "execution_count": 25,
     "metadata": {},
     "output_type": "execute_result"
    }
   ],
   "source": [
    "dataset.loc[dataset[u\"Tipo de Pessoa\"] == \"Juridica\"][u\"Razão Social - Cadastro Receita\"].value_counts().head(5)"
   ]
  },
  {
   "cell_type": "markdown",
   "metadata": {},
   "source": [
    "## Conclusões"
   ]
  },
  {
   "cell_type": "markdown",
   "metadata": {},
   "source": [
    "- As sanções estão bem distribuídas entre os tipos de pessoas, não existe predominância.\n",
    "- As sanções de Pessoa Física se destacam em proibição pela lei de improbidade.\n",
    "- As sanções de Pessoas Jurídicas se concentram em irregularidaes em licitações e pregões.\n",
    "- Não existe predominância por órgão sancionador.\n",
    "- É predominante o número de sanções relacionadas a pessoas físicas no estado de São Paulo.\n",
    "- As sanções relacionadas a pessoas jurídicas ocorrem com mais frequência no Distrito Federal e em São Paulo.\n",
    "- Não existe prodominância da UF da sanção para pessoa jurídica, mas para pessoa física existe."
   ]
  }
 ],
 "metadata": {
  "kernelspec": {
   "display_name": "Python 3",
   "language": "python",
   "name": "python3"
  },
  "language_info": {
   "codemirror_mode": {
    "name": "ipython",
    "version": 3
   },
   "file_extension": ".py",
   "mimetype": "text/x-python",
   "name": "python",
   "nbconvert_exporter": "python",
   "pygments_lexer": "ipython3",
   "version": "3.6.3"
  }
 },
 "nbformat": 4,
 "nbformat_minor": 2
}
