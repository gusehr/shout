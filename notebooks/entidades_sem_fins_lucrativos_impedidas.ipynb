{
 "cells": [
  {
   "cell_type": "markdown",
   "metadata": {},
   "source": [
    "# Análise Exploratória - Entidades sem Fins Lucrativos Impedidas"
   ]
  },
  {
   "cell_type": "markdown",
   "metadata": {},
   "source": [
    "<div style=\"text-align:justify\">\n",
    "Este notebook realiza uma análise exploratória sobre os dados de Cadastro de Entidades sem Fins Lucativos Impedidas (CEPIM), disponíveis no Portal da Transparência e Controladoria Geral da União (CGU), acessíveis através do [Link](http://www.portaltransparencia.gov.br/downloads/snapshot.asp?c=CEPIM#get).\n",
    "</div>"
   ]
  },
  {
   "cell_type": "markdown",
   "metadata": {},
   "source": [
    "## Carregando Pacotes"
   ]
  },
  {
   "cell_type": "code",
   "execution_count": 1,
   "metadata": {},
   "outputs": [
    {
     "name": "stdout",
     "output_type": "stream",
     "text": [
      "Populating the interactive namespace from numpy and matplotlib\n"
     ]
    }
   ],
   "source": [
    "import matplotlib.pyplot as plt\n",
    "import pandas as pd\n",
    "import seaborn as sns\n",
    "\n",
    "import unicodedata\n",
    "import re\n",
    "\n",
    "%matplotlib inline\n",
    "%pylab inline"
   ]
  },
  {
   "cell_type": "markdown",
   "metadata": {},
   "source": [
    "## Carregando Dados"
   ]
  },
  {
   "cell_type": "markdown",
   "metadata": {},
   "source": [
    "<div style=\"text-align:justify\">\n",
    "Os dados carregados apresentam: <br><br>\n",
    "CNPJ Entidade; Nome Entidade; Número Convênio; Órgão Concedente; e Motivo Impedimento.\n",
    "</div>"
   ]
  },
  {
   "cell_type": "code",
   "execution_count": 2,
   "metadata": {},
   "outputs": [
    {
     "data": {
      "text/plain": [
       "CNPJ Entidade         4662\n",
       "Nome Entidade         4662\n",
       "Número Convênio       4662\n",
       "Órgão Concedente      4662\n",
       "Motivo Impedimento    4662\n",
       "dtype: int64"
      ]
     },
     "execution_count": 2,
     "metadata": {},
     "output_type": "execute_result"
    }
   ],
   "source": [
    "dataset = pd.read_csv(\"../datasets/sancoes/20180402_CEPIM.csv\", sep='\\t', encoding='latin1')\n",
    "dataset.count()"
   ]
  },
  {
   "cell_type": "markdown",
   "metadata": {},
   "source": [
    "## Hipóteses de Análise:"
   ]
  },
  {
   "cell_type": "markdown",
   "metadata": {},
   "source": [
    "- H1: Existe alguma predominância pelo órgão concedente\n",
    "- H2: Existe predominância por entidade\n",
    "- H3: Existe predominãncia pelo motivo de impedimento"
   ]
  },
  {
   "cell_type": "markdown",
   "metadata": {},
   "source": [
    "### H1: Predominância por Órgão Concedente"
   ]
  },
  {
   "cell_type": "markdown",
   "metadata": {},
   "source": [
    "<div style=\"text-align:justify\">\n",
    "Mais de 50% das sanções se concentram nos cinco primeiros órgãos concedentes. Ministério do Turismo, Presidência da República, Ministério da Cultura, Ministério da Saúde e Ministério da educação; respectivamente.\n",
    "</div>"
   ]
  },
  {
   "cell_type": "code",
   "execution_count": 3,
   "metadata": {},
   "outputs": [
    {
     "data": {
      "text/plain": [
       "MINISTERIO DO TURISMO                            0.185972\n",
       "PRESIDENCIA DA REPUBLICA                         0.180824\n",
       "MINISTERIO DA CULTURA                            0.116259\n",
       "MINISTERIO DA SAUDE                              0.092879\n",
       "MINISTERIO DA EDUCACAO                           0.064779\n",
       "MINIST.DA CIENCIA,TECNOL.,INOV.E COMUNICACOES    0.058559\n",
       "MINISTERIO DOS DIREITOS HUMANOS                  0.050193\n",
       "MINISTERIO DO ESPORTE                            0.049979\n",
       "MINIST. DA AGRICUL.,PECUARIA E ABASTECIMENTO     0.038825\n",
       "MINISTERIO DO TRABALHO                           0.038181\n",
       "Name: Órgão Concedente, dtype: float64"
      ]
     },
     "execution_count": 3,
     "metadata": {},
     "output_type": "execute_result"
    }
   ],
   "source": [
    "orgao = dataset[u\"Órgão Concedente\"].value_counts(normalize=True).head(10)\n",
    "orgao"
   ]
  },
  {
   "cell_type": "markdown",
   "metadata": {},
   "source": [
    "#### Representação Gráfica"
   ]
  },
  {
   "cell_type": "code",
   "execution_count": 4,
   "metadata": {
    "scrolled": true
   },
   "outputs": [
    {
     "data": {
      "image/png": "[encoded data removed]",
      "text/plain": [
       "<matplotlib.figure.Figure at 0x7f3293767a50>"
      ]
     },
     "metadata": {},
     "output_type": "display_data"
    }
   ],
   "source": [
    "plt.figure(figsize=(16, 5))\n",
    "sns.barplot(range(1, orgao.count() + 1), orgao.values, alpha=0.8)\n",
    "plt.title(u\"Órgao Concedente\")\n",
    "plt.ylabel(u\"Ocorrências\", fontsize=12)\n",
    "plt.xlabel(u\"Órgao Concedente\", fontsize=12)\n",
    "plt.show()"
   ]
  },
  {
   "cell_type": "markdown",
   "metadata": {},
   "source": [
    "### H2: Predominância por Entidade"
   ]
  },
  {
   "cell_type": "markdown",
   "metadata": {},
   "source": [
    "<div style=\"text-align:justify\">\n",
    "Não existe predominância por entidade, muito embora diversas entidades tenham mais de um registro de impedimento.\n",
    "</div>"
   ]
  },
  {
   "cell_type": "code",
   "execution_count": 5,
   "metadata": {},
   "outputs": [
    {
     "data": {
      "text/plain": [
       "ASSOCIACAO SERGIPANA DE BLOCOS DE TRIO          0.014586\n",
       "ASSOCIACAO NACIONAL DE COOPERACAO AGRICOLA      0.008366\n",
       "PREMIUM AVANCA BRASIL                           0.008366\n",
       "FUNDACAO JOSE AMERICO                           0.008151\n",
       "FUNDACAO RIO MADEIRA                            0.007508\n",
       "MUITO ESPECIAL                                  0.007079\n",
       "FUNDACAO DE GESTAO E INOVACAO                   0.006221\n",
       "FUNDACAO DE APOIO A PESQUISA E A EXTENSAO       0.005577\n",
       "ASSOCIACAO DE ENSINO SUPERIOR DE NOVA IGUACU    0.004934\n",
       "IEC INSTITUTO EDUCAR E CRESCER                  0.004719\n",
       "Name: Nome Entidade, dtype: float64"
      ]
     },
     "execution_count": 5,
     "metadata": {},
     "output_type": "execute_result"
    }
   ],
   "source": [
    "dataset[u\"Nome Entidade\"].value_counts(normalize=True).head(10)"
   ]
  },
  {
   "cell_type": "markdown",
   "metadata": {},
   "source": [
    "### H3: Predominância pelo Motivo de Impedimento"
   ]
  },
  {
   "cell_type": "markdown",
   "metadata": {},
   "source": [
    "<div style=\"text-align:justify\">\n",
    "Os quatro primeiros motivos de impedimentos, juntos, representam aproximadamente 95% de todos os impedimentos realizados.\n",
    "</div>"
   ]
  },
  {
   "cell_type": "code",
   "execution_count": 6,
   "metadata": {},
   "outputs": [
    {
     "data": {
      "text/plain": [
       "MOTIVO NÃO ESPECIFICADO                                                   0.299657\n",
       "IRREGULARIDADES NA PRESTAÇÃO DE CONTAS (ATRASO, OMISSÃO OU IMPUGNAÇÃO)    0.274775\n",
       "IRREGULARIDADES NA EXECUÇÃO                                               0.188760\n",
       "INSTAURAÇÃO DE TCE                                                        0.187044\n",
       "INEXECUÇÃO DO OBJETO (TOTAL OU PARCIAL)                                   0.026384\n",
       "INSCRICAO POR DECISAO DO T.C.U.                                           0.022308\n",
       "APRESENTOU P.C. PARCIAL E/OU FINAL                                        0.000429\n",
       "APRESENTOU P.C. PARCIAL OU GLOBAL                                         0.000215\n",
       "O CONVENENTE APRESENTOU A P.C. FINAL                                      0.000215\n",
       "TOMADA DE CONTAS BAIXADA PELO TCU                                         0.000215\n",
       "Name: Motivo Impedimento, dtype: float64"
      ]
     },
     "execution_count": 6,
     "metadata": {},
     "output_type": "execute_result"
    }
   ],
   "source": [
    "motivo = dataset[u\"Motivo Impedimento\"].value_counts(normalize=True).head(10)\n",
    "motivo"
   ]
  },
  {
   "cell_type": "markdown",
   "metadata": {},
   "source": [
    "#### Representação Gráfica"
   ]
  },
  {
   "cell_type": "code",
   "execution_count": 7,
   "metadata": {},
   "outputs": [
    {
     "data": {
      "image/png": "[encoded data removed]",
      "text/plain": [
       "<matplotlib.figure.Figure at 0x7f32c84245d0>"
      ]
     },
     "metadata": {},
     "output_type": "display_data"
    }
   ],
   "source": [
    "plt.figure(figsize=(16, 5))\n",
    "sns.barplot(range(1, motivo.count() + 1), motivo.values, alpha=0.8)\n",
    "plt.title(u\"Motivo de Impedimento\")\n",
    "plt.ylabel(u\"Ocorrências\", fontsize=12)\n",
    "plt.xlabel(u\"Motivo de Impedimento\", fontsize=12)\n",
    "plt.show()"
   ]
  },
  {
   "cell_type": "markdown",
   "metadata": {},
   "source": [
    "## Conclusões"
   ]
  },
  {
   "cell_type": "markdown",
   "metadata": {},
   "source": [
    "- Mais de 50% das sanções se concentram em cinco órgãos concedentes. Existe predominância\n",
    "- Embora algumas entidades tenham mais de um impedimento, não existe predominância por entidade\n",
    "- 95% dos impedimentos se concentram em quatro motivos"
   ]
  },
  {
   "cell_type": "code",
   "execution_count": null,
   "metadata": {},
   "outputs": [],
   "source": []
  }
 ],
 "metadata": {
  "kernelspec": {
   "display_name": "Python 2",
   "language": "python",
   "name": "python2"
  },
  "language_info": {
   "codemirror_mode": {
    "name": "ipython",
    "version": 2
   },
   "file_extension": ".py",
   "mimetype": "text/x-python",
   "name": "python",
   "nbconvert_exporter": "python",
   "pygments_lexer": "ipython2",
   "version": "2.7.12"
  }
 },
 "nbformat": 4,
 "nbformat_minor": 2
}
