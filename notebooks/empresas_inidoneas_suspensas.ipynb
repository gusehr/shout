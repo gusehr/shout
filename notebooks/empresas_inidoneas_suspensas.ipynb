{
 "cells": [
  {
   "cell_type": "markdown",
   "metadata": {},
   "source": [
    "# Análise Exploratória"
   ]
  },
  {
   "cell_type": "markdown",
   "metadata": {},
   "source": [
    "<div style=\"text-align:justify\">\n",
    "Este notebook realiza uma análise exploratória sobre os dados de Cadastro de Empresas Inidôneas e Suspensas (CEIS), disponíveis no Portal da Transparência e Controladoria Geral da União (CGU), acessíveis através do [Link](http://www.portaltransparencia.gov.br/downloads/snapshot.asp?c=CEIS#get).\n",
    "</div>"
   ]
  },
  {
   "cell_type": "markdown",
   "metadata": {},
   "source": [
    "### Carregando Pacotes"
   ]
  },
  {
   "cell_type": "code",
   "execution_count": 2,
   "metadata": {},
   "outputs": [
    {
     "name": "stdout",
     "output_type": "stream",
     "text": [
      "Populating the interactive namespace from numpy and matplotlib\n"
     ]
    }
   ],
   "source": [
    "import matplotlib.pyplot as plt\n",
    "import pandas as pd\n",
    "import seaborn as sns\n",
    "\n",
    "import unicodedata\n",
    "import re\n",
    "\n",
    "%matplotlib inline\n",
    "%pylab inline"
   ]
  },
  {
   "cell_type": "markdown",
   "metadata": {},
   "source": [
    "### Carregando Dados"
   ]
  },
  {
   "cell_type": "markdown",
   "metadata": {},
   "source": [
    "<div style=\"text-align:justify\">\n",
    "Os dados carregados apresentam: <br><br>\n",
    "Tipo de Pessoa; CPF ou CNPJ do Sancionado; Nome Informado pelo Órgão Sancionador; Razão Social - Cadastro Receita; Nome Fantasia - Cadastro Receita; Número do processo; Tipo Sanção; Data Início Sanção; Data Final Sanção; Órgão Sancionador; UF Órgão Sancionador; Origem Informações; Data Origem Informações; Data Publicação; Publicação; Detalhamento; Abrangência definida em decisão judicial; Fundamentação Legal; Descrição da Fundamentação Legal; Data do Trânsito em Julgado; Complemento do Órgão; e Contato da Origem da Informação.\n",
    "</div>"
   ]
  },
  {
   "cell_type": "code",
   "execution_count": 3,
   "metadata": {},
   "outputs": [
    {
     "data": {
      "text/plain": [
       "Tipo de Pessoa                              12537\n",
       "CPF ou CNPJ do Sancionado                   12537\n",
       "Nome Informado pelo Órgão Sancionador       12537\n",
       "Razão Social - Cadastro Receita             12531\n",
       "Nome Fantasia - Cadastro Receita             4528\n",
       "Número do processo                          12537\n",
       "Tipo Sanção                                 12537\n",
       "Data Início Sanção                          12537\n",
       "Data Final Sanção                           11384\n",
       "Órgão Sancionador                           12536\n",
       "UF Órgão Sancionador                        11547\n",
       "Origem Informações                          12537\n",
       "Data Origem Informações                     12537\n",
       "Data Publicação                              6166\n",
       "Publicação                                   5076\n",
       "Detalhamento                                 2181\n",
       "Abrangência definida em decisão judicial     1243\n",
       "Fundamentação Legal                         12147\n",
       "Descrição da Fundamentação Legal            12147\n",
       "Data do Trânsito em Julgado                  5384\n",
       "Complemento do Órgão                         2367\n",
       "Contato da Origem da Informação             12537\n",
       "dtype: int64"
      ]
     },
     "execution_count": 3,
     "metadata": {},
     "output_type": "execute_result"
    }
   ],
   "source": [
    "dataset = pd.read_csv(\"../datasets/20180331_CEIS.csv\", sep=';', encoding='latin1')\n",
    "dataset.count()"
   ]
  },
  {
   "cell_type": "markdown",
   "metadata": {},
   "source": [
    "### Hipóteses de Análise:"
   ]
  },
  {
   "cell_type": "markdown",
   "metadata": {},
   "source": [
    "- H1: Existe alguma predominância pelo tipo de pessoa\n",
    "- H2: Existe alguma predominância pelo tipo de sanção\n",
    "- H3: Algum orgão sancionador é mais predominante\n",
    "- H4: Proporção de sanções por fundamentação legal"
   ]
  },
  {
   "cell_type": "markdown",
   "metadata": {},
   "source": [
    "### H1: Predominância por Tipo de Pessoa"
   ]
  },
  {
   "cell_type": "markdown",
   "metadata": {},
   "source": [
    "<div style=\"text-align:justify\">\n",
    "Podemos notar que não há predominância no número de sanções de acordo com o tipo de pessoa, muito embora a maior parte das sanções estejam associadas a Pessoas Jurídicas.\n",
    "</div>"
   ]
  },
  {
   "cell_type": "code",
   "execution_count": 4,
   "metadata": {},
   "outputs": [
    {
     "data": {
      "text/plain": [
       "Juridica    6772\n",
       "Fisica      5765\n",
       "Name: Tipo de Pessoa, dtype: int64"
      ]
     },
     "execution_count": 4,
     "metadata": {},
     "output_type": "execute_result"
    }
   ],
   "source": [
    "dataset[u\"Tipo de Pessoa\"].value_counts()"
   ]
  },
  {
   "cell_type": "markdown",
   "metadata": {},
   "source": [
    "### H2: Predominância pelo Tipo de Sanção"
   ]
  },
  {
   "cell_type": "markdown",
   "metadata": {},
   "source": [
    "<div style=\"text-align:justify\">\n",
    "Podemos notar que existe predominância por tipo de sanção, onde o maior número de ocorrências é por _Proibição - Lei de Improbidade_, com 5982 sanções; seguido de 2160 _Impedimento - Lei do Pregão_ com e 2051 _Suspensão - Lei de Licitações_.\n",
    "</div>"
   ]
  },
  {
   "cell_type": "code",
   "execution_count": 5,
   "metadata": {},
   "outputs": [
    {
     "data": {
      "text/plain": [
       "Proibição - Lei de Improbidade                              5982\n",
       "Impedimento - Lei do Pregão                                 2160\n",
       "Suspensão - Lei de Licitações                               2051\n",
       "Inidoneidade - Lei de Licitações                             685\n",
       "Inidoneidade - Legislação Estadual                           408\n",
       "Decisão judicial liminar/cautelar que impeça contratação     242\n",
       "Proibição - Lei Eleitoral                                    241\n",
       "Inidoneidade - Lei da ANTT e ANTAQ                           196\n",
       "Suspensão - Legislação Estadual                              195\n",
       "Inidoneidade - Lei Orgânica TCU                              193\n",
       "Name: Tipo Sanção, dtype: int64"
      ]
     },
     "execution_count": 5,
     "metadata": {},
     "output_type": "execute_result"
    }
   ],
   "source": [
    "tp_sancao = dataset[u\"Tipo Sanção\"].value_counts().head(10)\n",
    "tp_sancao"
   ]
  },
  {
   "cell_type": "markdown",
   "metadata": {},
   "source": [
    "#### Representação Gráfica - Tipo de Sanção"
   ]
  },
  {
   "cell_type": "code",
   "execution_count": 6,
   "metadata": {},
   "outputs": [
    {
     "data": {
      "image/png": "[encoded data removed]",
      "text/plain": [
       "<matplotlib.figure.Figure at 0x7effa3466b90>"
      ]
     },
     "metadata": {},
     "output_type": "display_data"
    }
   ],
   "source": [
    "plt.figure(figsize=(16, 5))\n",
    "sns.barplot(range(1, tp_sancao.count() + 1), tp_sancao.values, alpha=0.8)\n",
    "plt.title(u\"Sanções por Tipo\")\n",
    "plt.ylabel(u\"Ocorrências\", fontsize=12)\n",
    "plt.xlabel(u\"Tipo de Sanção\", fontsize=12)\n",
    "plt.show()"
   ]
  },
  {
   "cell_type": "markdown",
   "metadata": {},
   "source": [
    "#### Tipo de Sanção Pessoa Jurídica"
   ]
  },
  {
   "cell_type": "markdown",
   "metadata": {},
   "source": [
    "<div style=\"text-align:justify\">\n",
    "Vamos agora fazer uma análise mais detalhada, avaliando a predominância de tipo de sanções por pessoa jurídica. Podemos notar que o maior número de ocorrências é o _Impedimento - Lei do Pregão_, com 2125 sanções; seguido de 1953 _Suspensão - Lei de Licitações_ e 663 _Inidoneidade - Lei de Licitações_.\n",
    "</div>"
   ]
  },
  {
   "cell_type": "code",
   "execution_count": 7,
   "metadata": {},
   "outputs": [
    {
     "data": {
      "text/plain": [
       "Impedimento - Lei do Pregão                                 2125\n",
       "Suspensão - Lei de Licitações                               1953\n",
       "Inidoneidade - Lei de Licitações                             663\n",
       "Proibição - Lei de Improbidade                               562\n",
       "Inidoneidade - Legislação Estadual                           393\n",
       "Proibição - Lei Eleitoral                                    240\n",
       "Inidoneidade - Lei da ANTT e ANTAQ                           196\n",
       "Inidoneidade - Lei Orgânica TCU                              189\n",
       "Suspensão - Legislação Estadual                              176\n",
       "Decisão judicial liminar/cautelar que impeça contratação     106\n",
       "Name: Tipo Sanção, dtype: int64"
      ]
     },
     "execution_count": 7,
     "metadata": {},
     "output_type": "execute_result"
    }
   ],
   "source": [
    "tp_sancao_pj = dataset.loc[dataset[u\"Tipo de Pessoa\"] == \"Juridica\"][u\"Tipo Sanção\"].value_counts().head(10)\n",
    "tp_sancao_pj"
   ]
  },
  {
   "cell_type": "markdown",
   "metadata": {},
   "source": [
    "#### Tipo de Sanção Pessoa Física"
   ]
  },
  {
   "cell_type": "markdown",
   "metadata": {},
   "source": [
    "<div style=\"text-align:justify\">\n",
    "Vamos agora fazer uma análise mais detalhada, avaliando a predominância de tipo de sanções por pessoa física. Podemos notar que é predominante o número de sanções do tipo _Proibição - Lei de Improbidade_, com 5420 ocorrências. Os demais tipo de sanções ocorrerm em número bem baixo, se comparado com este citado anteriormente.\n",
    "</div>"
   ]
  },
  {
   "cell_type": "code",
   "execution_count": 8,
   "metadata": {},
   "outputs": [
    {
     "data": {
      "text/plain": [
       "Proibição - Lei de Improbidade                              5420\n",
       "Decisão judicial liminar/cautelar que impeça contratação     136\n",
       "Suspensão - Lei de Licitações                                 98\n",
       "Impedimento - Lei do Pregão                                   35\n",
       "Inidoneidade - Lei de Licitações                              22\n",
       "Suspensão - Legislação Estadual                               19\n",
       "Inidoneidade - Legislação Estadual                            15\n",
       "Proibição - Lei Antitruste                                     7\n",
       "Impedimento - Legislação Estadual                              5\n",
       "Inidoneidade - Lei Orgânica TCU                                4\n",
       "Name: Tipo Sanção, dtype: int64"
      ]
     },
     "execution_count": 8,
     "metadata": {},
     "output_type": "execute_result"
    }
   ],
   "source": [
    "dataset.loc[dataset[u\"Tipo de Pessoa\"] == \"Fisica\"][u\"Tipo Sanção\"].value_counts().head(10)"
   ]
  },
  {
   "cell_type": "markdown",
   "metadata": {},
   "source": [
    "### H3: Predominância por Órgão Sancionador"
   ]
  },
  {
   "cell_type": "markdown",
   "metadata": {},
   "source": [
    "<div style=\"text-align:justify\">\n",
    "A maior parte das sanções são realizadas pela Justiça Estadual, com 556 ocorrências; seguida da Justiça Federal com  366 e Procuradoria Geral do Estado, com 336 sanções.\n",
    "</div>"
   ]
  },
  {
   "cell_type": "code",
   "execution_count": 9,
   "metadata": {},
   "outputs": [
    {
     "data": {
      "text/plain": [
       "Justiça Estadual                               556\n",
       "Justiça Federal                                366\n",
       "PROCURADORIA GERAL DO ESTADO                   336\n",
       "Governo do Estado da Bahia                     305\n",
       "AGÊNCIA NACIONAL DE TRANSPORTES TERRESTRES     212\n",
       "EMPRESA BRASILEIRA DE CORREIOS E TELÉGRAFOS    194\n",
       "CAIXA ECONÔMICA FEDERAL                        181\n",
       "Governo do Estado da Bahia (BA)                161\n",
       "Receita Federal do Brasil                      131\n",
       "TRIBUNAL DE CONTAS DA UNIÃO                    125\n",
       "Name: Órgão Sancionador, dtype: int64"
      ]
     },
     "execution_count": 9,
     "metadata": {},
     "output_type": "execute_result"
    }
   ],
   "source": [
    "orgao = dataset[u\"Órgão Sancionador\"].value_counts().head(10)\n",
    "orgao"
   ]
  },
  {
   "cell_type": "markdown",
   "metadata": {},
   "source": [
    "#### Representação Gráfica - Órgão Sancionador"
   ]
  },
  {
   "cell_type": "code",
   "execution_count": 10,
   "metadata": {},
   "outputs": [
    {
     "data": {
      "image/png": "[encoded data removed]",
      "text/plain": [
       "<matplotlib.figure.Figure at 0x7effa3466110>"
      ]
     },
     "metadata": {},
     "output_type": "display_data"
    }
   ],
   "source": [
    "plt.figure(figsize=(16, 5))\n",
    "sns.barplot(range(1, orgao.count() + 1), orgao.values, alpha=0.8)\n",
    "plt.title(u\"Órgão Sancionador\")\n",
    "plt.ylabel(u\"Ocorrências\", fontsize=12)\n",
    "plt.xlabel(u\"Sanções por Órgão\", fontsize=12)\n",
    "plt.show()"
   ]
  },
  {
   "cell_type": "markdown",
   "metadata": {},
   "source": [
    "### H4: Sanções por Fundamentação Legal"
   ]
  },
  {
   "cell_type": "markdown",
   "metadata": {},
   "source": [
    "<div style=\"text-align:justify\">\n",
    "A maior parte das sanções são fundamentadas por Art. 12, Lei 8429/1992, com 5994 ocorrências; seguido de 2160 sanções fundamentadas por Art. 7, Lei 10520/2002 e 2070 sanções fundamentadas por Art. 87, inciso III, Lei 8666/1993.\n",
    "</div>"
   ]
  },
  {
   "cell_type": "code",
   "execution_count": 11,
   "metadata": {},
   "outputs": [
    {
     "data": {
      "text/plain": [
       "Art. 12, Lei 8429/1992                   5994\n",
       "Art. 7, Lei 10520/2002                   2160\n",
       "Art. 87, inciso III, Lei 8666/1993       2070\n",
       "Art. 87, inciso IV, Lei 8666/1993         733\n",
       "Art. 81, § 3, Lei 9504/1997               241\n",
       "Art. 78, Lei 10233/2001                   195\n",
       "Art. 46, Lei 8443/1992                    193\n",
       "Art. 186, inciso III, Lei 9433/2005       192\n",
       "Art. 186, inciso II, Lei 9433/2005         98\n",
       "Art. 45, inciso I, Decreto 45902/2012      58\n",
       "Name: Fundamentação Legal, dtype: int64"
      ]
     },
     "execution_count": 11,
     "metadata": {},
     "output_type": "execute_result"
    }
   ],
   "source": [
    "dataset[u\"Fundamentação Legal\"].value_counts().head(10)"
   ]
  },
  {
   "cell_type": "markdown",
   "metadata": {},
   "source": [
    "#### Fundamentação Legal - Pessoa Jurídica"
   ]
  },
  {
   "cell_type": "markdown",
   "metadata": {},
   "source": [
    "<div style=\"text-align:justify\">\n",
    "Ao analisar as fundamentações legais por pessoa jurídica, é possível notar que há predominância no Art. 7, Lei 10520/2002 e Art. 87, inciso III, Lei 8666/1993, com 2125 e 1972, respectivamente.\n",
    "</div>"
   ]
  },
  {
   "cell_type": "code",
   "execution_count": 12,
   "metadata": {},
   "outputs": [
    {
     "data": {
      "text/plain": [
       "Art. 7, Lei 10520/2002                   0.325820\n",
       "Art. 87, inciso III, Lei 8666/1993       0.302361\n",
       "Art. 87, inciso IV, Lei 8666/1993        0.108249\n",
       "Art. 12, Lei 8429/1992                   0.086783\n",
       "Art. 81, § 3, Lei 9504/1997              0.036799\n",
       "Art. 78, Lei 10233/2001                  0.029899\n",
       "Art. 186, inciso III, Lei 9433/2005      0.029439\n",
       "Art. 46, Lei 8443/1992                   0.028979\n",
       "Art. 186, inciso II, Lei 9433/2005       0.015026\n",
       "Art. 45, inciso I, Decreto 45902/2012    0.008433\n",
       "Name: Fundamentação Legal, dtype: float64"
      ]
     },
     "execution_count": 12,
     "metadata": {},
     "output_type": "execute_result"
    }
   ],
   "source": [
    "dataset.loc[dataset[u\"Tipo de Pessoa\"] == \"Juridica\"][u\"Fundamentação Legal\"].value_counts(normalize=True).head(10)"
   ]
  },
  {
   "cell_type": "markdown",
   "metadata": {},
   "source": [
    "#### Fundamentação Legal - Pessoa Física"
   ]
  },
  {
   "cell_type": "markdown",
   "metadata": {},
   "source": [
    "<div style=\"text-align:justify\">\n",
    "Ao analisar as fundamentações legais por pessoa física, é possível notar grande predominância no Art. 12, Lei 8429/1992, que por sinal possui o maior número de ocorrências entre todas as fundamentações legais.\n",
    "</div>"
   ]
  },
  {
   "cell_type": "code",
   "execution_count": 13,
   "metadata": {},
   "outputs": [
    {
     "data": {
      "text/plain": [
       "Art. 12, Lei 8429/1992                    0.964978\n",
       "Art. 87, inciso III, Lei 8666/1993        0.017422\n",
       "Art. 7, Lei 10520/2002                    0.006222\n",
       "Art. 87, inciso IV, Lei 8666/1993         0.004800\n",
       "Art. 38, inciso II, Lei 12529/2011        0.001244\n",
       "Art. 319, inciso VI, Decreto 3689/1941    0.001067\n",
       "Art. 2, inciso I, Lei 11389/1999          0.000889\n",
       "Art. 46, Lei 8443/1992                    0.000711\n",
       "Art. 150, inciso III, Lei 15608/2007      0.000533\n",
       "Art. 150, inciso IV, Lei 15608/2007       0.000533\n",
       "Name: Fundamentação Legal, dtype: float64"
      ]
     },
     "execution_count": 13,
     "metadata": {},
     "output_type": "execute_result"
    }
   ],
   "source": [
    "dataset.loc[dataset[u\"Tipo de Pessoa\"] == \"Fisica\"][u\"Fundamentação Legal\"].value_counts(normalize=True).head(10)"
   ]
  },
  {
   "cell_type": "markdown",
   "metadata": {},
   "source": [
    "### Conclusões"
   ]
  },
  {
   "cell_type": "markdown",
   "metadata": {},
   "source": [
    "- As sanções estão bem distribuídas entre os tipos de pessoas, não existe predominância.\n",
    "- As sanções de Pessoas Jurídicas se concentram em irregularidaes em licitações.\n",
    "- As sanções de Pessoa Física se concentram em proibição pela lei de improbidade (enriquecimento ilícito).\n",
    "- A maior parte das sanções são realizadas pela Justiça do Estado, mas não existe grande predominância pelo órgão sancionador."
   ]
  }
 ],
 "metadata": {
  "kernelspec": {
   "display_name": "Python 2",
   "language": "python",
   "name": "python2"
  },
  "language_info": {
   "codemirror_mode": {
    "name": "ipython",
    "version": 2
   },
   "file_extension": ".py",
   "mimetype": "text/x-python",
   "name": "python",
   "nbconvert_exporter": "python",
   "pygments_lexer": "ipython2",
   "version": "2.7.12"
  }
 },
 "nbformat": 4,
 "nbformat_minor": 2
}
