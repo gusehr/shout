{
 "cells": [
  {
   "cell_type": "markdown",
   "metadata": {},
   "source": [
    "# Análise Exploratória - Empresas Inidôneas e Suspensas"
   ]
  },
  {
   "cell_type": "markdown",
   "metadata": {},
   "source": [
    "<div style=\"text-align:justify\">\n",
    "Este notebook realiza uma análise exploratória sobre os dados de Cadastro de Empresas Inidôneas e Suspensas (CEIS), disponíveis no Portal da Transparência e Controladoria Geral da União (CGU), acessíveis através do [Link](http://www.portaltransparencia.gov.br/downloads/snapshot.asp?c=CEIS#get).\n",
    "</div>"
   ]
  },
  {
   "cell_type": "markdown",
   "metadata": {},
   "source": [
    "## Carregando Pacotes"
   ]
  },
  {
   "cell_type": "code",
   "execution_count": 1,
   "metadata": {},
   "outputs": [
    {
     "name": "stdout",
     "output_type": "stream",
     "text": [
      "Populating the interactive namespace from numpy and matplotlib\n"
     ]
    }
   ],
   "source": [
    "import matplotlib.pyplot as plt\n",
    "import pandas as pd\n",
    "import seaborn as sns\n",
    "\n",
    "import unicodedata\n",
    "import re\n",
    "\n",
    "%matplotlib inline\n",
    "%pylab inline"
   ]
  },
  {
   "cell_type": "markdown",
   "metadata": {},
   "source": [
    "## Carregando Dados"
   ]
  },
  {
   "cell_type": "markdown",
   "metadata": {},
   "source": [
    "<div style=\"text-align:justify\">\n",
    "Os dados carregados apresentam: <br><br>\n",
    "Tipo de Pessoa; CPF ou CNPJ do Sancionado; Nome Informado pelo Órgão Sancionador; Razão Social - Cadastro Receita; Nome Fantasia - Cadastro Receita; Número do processo; Tipo Sanção; Data Início Sanção; Data Final Sanção; Órgão Sancionador; UF Órgão Sancionador; Origem Informações; Data Origem Informações; Data Publicação; Publicação; Detalhamento; Abrangência definida em decisão judicial; Fundamentação Legal; Descrição da Fundamentação Legal; Data do Trânsito em Julgado; Complemento do Órgão; e Contato da Origem da Informação.\n",
    "</div>"
   ]
  },
  {
   "cell_type": "code",
   "execution_count": 2,
   "metadata": {},
   "outputs": [
    {
     "data": {
      "text/plain": [
       "Tipo de Pessoa                              12537\n",
       "CPF ou CNPJ do Sancionado                   12537\n",
       "Nome Informado pelo Órgão Sancionador       12537\n",
       "Razão Social - Cadastro Receita             12531\n",
       "Nome Fantasia - Cadastro Receita             4528\n",
       "Número do processo                          12537\n",
       "Tipo Sanção                                 12537\n",
       "Data Início Sanção                          12537\n",
       "Data Final Sanção                           11384\n",
       "Órgão Sancionador                           12536\n",
       "UF Órgão Sancionador                        11547\n",
       "Origem Informações                          12537\n",
       "Data Origem Informações                     12537\n",
       "Data Publicação                              6166\n",
       "Publicação                                   5076\n",
       "Detalhamento                                 2181\n",
       "Abrangência definida em decisão judicial     1243\n",
       "Fundamentação Legal                         12147\n",
       "Descrição da Fundamentação Legal            12147\n",
       "Data do Trânsito em Julgado                  5384\n",
       "Complemento do Órgão                         2367\n",
       "Contato da Origem da Informação             12537\n",
       "dtype: int64"
      ]
     },
     "execution_count": 2,
     "metadata": {},
     "output_type": "execute_result"
    }
   ],
   "source": [
    "dataset = pd.read_csv(\"../datasets/20180331_CEIS.csv\", sep=';', encoding='latin1')\n",
    "dataset.count()"
   ]
  },
  {
   "cell_type": "markdown",
   "metadata": {},
   "source": [
    "## Hipóteses de Análise:"
   ]
  },
  {
   "cell_type": "markdown",
   "metadata": {},
   "source": [
    "- H1: Existe alguma predominância pelo tipo de pessoa\n",
    "- H2: Existe alguma predominância pelo tipo de sanção\n",
    "- H3: Algum orgão sancionador é mais predominante\n",
    "- H4: Existe alguma predominância por UF do órgão sancionador\n",
    "- H5: Existe alguma predominância por origem da informação"
   ]
  },
  {
   "cell_type": "markdown",
   "metadata": {},
   "source": [
    "### H1: Predominância por Tipo de Pessoa"
   ]
  },
  {
   "cell_type": "markdown",
   "metadata": {},
   "source": [
    "<div style=\"text-align:justify\">\n",
    "Podemos notar que não há predominância no número de sanções de acordo com o tipo de pessoa, muito embora a maior parte das sanções estejam associadas a Pessoas Jurídicas.\n",
    "</div>"
   ]
  },
  {
   "cell_type": "code",
   "execution_count": 3,
   "metadata": {},
   "outputs": [
    {
     "data": {
      "text/plain": [
       "Juridica    6772\n",
       "Fisica      5765\n",
       "Name: Tipo de Pessoa, dtype: int64"
      ]
     },
     "execution_count": 3,
     "metadata": {},
     "output_type": "execute_result"
    }
   ],
   "source": [
    "dataset[u\"Tipo de Pessoa\"].value_counts()"
   ]
  },
  {
   "cell_type": "markdown",
   "metadata": {},
   "source": [
    "### H2: Predominância pelo Tipo de Sanção"
   ]
  },
  {
   "cell_type": "markdown",
   "metadata": {},
   "source": [
    "#### Tipo de Sanção Pessoa Física"
   ]
  },
  {
   "cell_type": "markdown",
   "metadata": {},
   "source": [
    "<div style=\"text-align:justify\">\n",
    "Vamos agora fazer uma análise mais detalhada, avaliando a predominância de tipo de sanções por pessoa física. Podemos notar que é predominante o número de sanções do tipo _Proibição - Lei de Improbidade_, com 5420 ocorrências. Os demais tipo de sanções ocorrerm em número bem baixo, se comparado com este citado anteriormente.\n",
    "</div>"
   ]
  },
  {
   "cell_type": "code",
   "execution_count": 4,
   "metadata": {},
   "outputs": [
    {
     "data": {
      "text/plain": [
       "Proibição - Lei de Improbidade                              5420\n",
       "Decisão judicial liminar/cautelar que impeça contratação     136\n",
       "Suspensão - Lei de Licitações                                 98\n",
       "Impedimento - Lei do Pregão                                   35\n",
       "Inidoneidade - Lei de Licitações                              22\n",
       "Suspensão - Legislação Estadual                               19\n",
       "Inidoneidade - Legislação Estadual                            15\n",
       "Proibição - Lei Antitruste                                     7\n",
       "Impedimento - Legislação Estadual                              5\n",
       "Inidoneidade - Lei Orgânica TCU                                4\n",
       "Name: Tipo Sanção, dtype: int64"
      ]
     },
     "execution_count": 4,
     "metadata": {},
     "output_type": "execute_result"
    }
   ],
   "source": [
    "dataset.loc[dataset[u\"Tipo de Pessoa\"] == \"Fisica\"][u\"Tipo Sanção\"].value_counts().head(10)"
   ]
  },
  {
   "cell_type": "markdown",
   "metadata": {},
   "source": [
    "<div style=\"text-align:justify\">\n",
    "Analisando os cinco primeiros registros, notamos que quase 95% das sanções relacionadas a pessoa física são de _Proibição - Lei de Improbidade_, ou seja; enriquecimento ilicito.\n",
    "</div>"
   ]
  },
  {
   "cell_type": "code",
   "execution_count": 5,
   "metadata": {},
   "outputs": [
    {
     "data": {
      "text/plain": [
       "Proibição - Lei de Improbidade                              0.940156\n",
       "Decisão judicial liminar/cautelar que impeça contratação    0.023591\n",
       "Suspensão - Lei de Licitações                               0.016999\n",
       "Impedimento - Lei do Pregão                                 0.006071\n",
       "Inidoneidade - Lei de Licitações                            0.003816\n",
       "Name: Tipo Sanção, dtype: float64"
      ]
     },
     "execution_count": 5,
     "metadata": {},
     "output_type": "execute_result"
    }
   ],
   "source": [
    "tp_pf = dataset.loc[dataset[u\"Tipo de Pessoa\"] == \"Fisica\"][u\"Tipo Sanção\"].value_counts(normalize=True).head(5)\n",
    "tp_pf"
   ]
  },
  {
   "cell_type": "markdown",
   "metadata": {},
   "source": [
    "#### Representação Gráfica - Pessoa Física"
   ]
  },
  {
   "cell_type": "code",
   "execution_count": 6,
   "metadata": {},
   "outputs": [
    {
     "data": {
      "image/png": "[encoded data removed]",
      "text/plain": [
       "<matplotlib.figure.Figure at 0x7fbcfe6c6690>"
      ]
     },
     "metadata": {},
     "output_type": "display_data"
    }
   ],
   "source": [
    "plt.figure(figsize=(16, 5))\n",
    "sns.barplot(range(1, tp_pf.count() + 1), tp_pf.values, alpha=0.8)\n",
    "plt.title(u\"Tipo de Sanção - Pessoa Física\")\n",
    "plt.ylabel(u\"Ocorrências\", fontsize=12)\n",
    "plt.xlabel(u\"Tipo de Sanção\", fontsize=12)\n",
    "plt.show()"
   ]
  },
  {
   "cell_type": "markdown",
   "metadata": {},
   "source": [
    "#### Tipo de Sanção Pessoa Jurídica"
   ]
  },
  {
   "cell_type": "markdown",
   "metadata": {},
   "source": [
    "<div style=\"text-align:justify\">\n",
    "Vamos agora analisar a predominância de tipo de sanções por pessoa jurídica. Podemos notar que o maior número de ocorrências é o _Impedimento - Lei do Pregão_, com 2125 sanções; seguido de 1953 _Suspensão - Lei de Licitações_.\n",
    "</div>"
   ]
  },
  {
   "cell_type": "code",
   "execution_count": 7,
   "metadata": {},
   "outputs": [
    {
     "data": {
      "text/plain": [
       "Impedimento - Lei do Pregão                                 2125\n",
       "Suspensão - Lei de Licitações                               1953\n",
       "Inidoneidade - Lei de Licitações                             663\n",
       "Proibição - Lei de Improbidade                               562\n",
       "Inidoneidade - Legislação Estadual                           393\n",
       "Proibição - Lei Eleitoral                                    240\n",
       "Inidoneidade - Lei da ANTT e ANTAQ                           196\n",
       "Inidoneidade - Lei Orgânica TCU                              189\n",
       "Suspensão - Legislação Estadual                              176\n",
       "Decisão judicial liminar/cautelar que impeça contratação     106\n",
       "Name: Tipo Sanção, dtype: int64"
      ]
     },
     "execution_count": 7,
     "metadata": {},
     "output_type": "execute_result"
    }
   ],
   "source": [
    "dataset.loc[dataset[u\"Tipo de Pessoa\"] == \"Juridica\"][u\"Tipo Sanção\"].value_counts().head(10)"
   ]
  },
  {
   "cell_type": "markdown",
   "metadata": {},
   "source": [
    "<div style=\"text-align:justify\">\n",
    "Analisando os cinco primeiros registros, notamos que os dois primeiros tipos de sanções de pessoa jurídica representam aproximadamente 30% cada, das sanções para esse grupo de pessoa.\n",
    "</div>"
   ]
  },
  {
   "cell_type": "code",
   "execution_count": 8,
   "metadata": {},
   "outputs": [
    {
     "data": {
      "text/plain": [
       "Impedimento - Lei do Pregão           0.313792\n",
       "Suspensão - Lei de Licitações         0.288393\n",
       "Inidoneidade - Lei de Licitações      0.097903\n",
       "Proibição - Lei de Improbidade        0.082989\n",
       "Inidoneidade - Legislação Estadual    0.058033\n",
       "Name: Tipo Sanção, dtype: float64"
      ]
     },
     "execution_count": 8,
     "metadata": {},
     "output_type": "execute_result"
    }
   ],
   "source": [
    "tp_pj = dataset.loc[dataset[u\"Tipo de Pessoa\"] == \"Juridica\"][u\"Tipo Sanção\"].value_counts(normalize=True).head(5)\n",
    "tp_pj"
   ]
  },
  {
   "cell_type": "markdown",
   "metadata": {},
   "source": [
    "#### Representação Gráfica - Pessoa Jurídica"
   ]
  },
  {
   "cell_type": "code",
   "execution_count": 9,
   "metadata": {},
   "outputs": [
    {
     "data": {
      "image/png": "[encoded data removed]",
      "text/plain": [
       "<matplotlib.figure.Figure at 0x7fbcfe6ea990>"
      ]
     },
     "metadata": {},
     "output_type": "display_data"
    }
   ],
   "source": [
    "plt.figure(figsize=(16, 5))\n",
    "sns.barplot(range(1, tp_pj.count() + 1), tp_pj.values, alpha=0.8)\n",
    "plt.title(u\"Tipo de Sanção - Pessoa Jurídica\")\n",
    "plt.ylabel(u\"Ocorrências\", fontsize=12)\n",
    "plt.xlabel(u\"Tipo de Sanção\", fontsize=12)\n",
    "plt.show()"
   ]
  },
  {
   "cell_type": "markdown",
   "metadata": {},
   "source": [
    "### H3: Predominância por Órgão Sancionador"
   ]
  },
  {
   "cell_type": "markdown",
   "metadata": {},
   "source": [
    "<div style=\"text-align:justify\">\n",
    "A maior parte das sanções são executadas pela Justiça Estadual, com 556 ocorrências; seguida da Justiça Federal com  366 e Procuradoria Geral do Estado, com 336 sanções.\n",
    "</div>"
   ]
  },
  {
   "cell_type": "code",
   "execution_count": 10,
   "metadata": {},
   "outputs": [
    {
     "data": {
      "text/plain": [
       "Justiça Estadual                               556\n",
       "Justiça Federal                                366\n",
       "PROCURADORIA GERAL DO ESTADO                   336\n",
       "Governo do Estado da Bahia                     305\n",
       "AGÊNCIA NACIONAL DE TRANSPORTES TERRESTRES     212\n",
       "EMPRESA BRASILEIRA DE CORREIOS E TELÉGRAFOS    194\n",
       "CAIXA ECONÔMICA FEDERAL                        181\n",
       "Governo do Estado da Bahia (BA)                161\n",
       "Receita Federal do Brasil                      131\n",
       "TRIBUNAL DE CONTAS DA UNIÃO                    125\n",
       "Name: Órgão Sancionador, dtype: int64"
      ]
     },
     "execution_count": 10,
     "metadata": {},
     "output_type": "execute_result"
    }
   ],
   "source": [
    "dataset[u\"Órgão Sancionador\"].value_counts().head(10)"
   ]
  },
  {
   "cell_type": "markdown",
   "metadata": {},
   "source": [
    "<div style=\"text-align:justify\">\n",
    "Quando analisamos em valores percentuais, observamos que não existe predominância em nenhum órgão sancionador; ou seja, há um balanceamento entre as sanções de todos os órgãos.\n",
    "</div>"
   ]
  },
  {
   "cell_type": "code",
   "execution_count": 11,
   "metadata": {},
   "outputs": [
    {
     "data": {
      "text/plain": [
       "Justiça Estadual                              0.044352\n",
       "Justiça Federal                               0.029196\n",
       "PROCURADORIA GERAL DO ESTADO                  0.026803\n",
       "Governo do Estado da Bahia                    0.024330\n",
       "AGÊNCIA NACIONAL DE TRANSPORTES TERRESTRES    0.016911\n",
       "Name: Órgão Sancionador, dtype: float64"
      ]
     },
     "execution_count": 11,
     "metadata": {},
     "output_type": "execute_result"
    }
   ],
   "source": [
    "dataset[u\"Órgão Sancionador\"].value_counts(normalize=True).head(5)"
   ]
  },
  {
   "cell_type": "markdown",
   "metadata": {},
   "source": [
    "### H4: Predominância por UF"
   ]
  },
  {
   "cell_type": "markdown",
   "metadata": {},
   "source": [
    "#### UR Órgão Sancionador - Pessoa Física"
   ]
  },
  {
   "cell_type": "markdown",
   "metadata": {},
   "source": [
    "<div style=\"text-align:justify\">\n",
    "Vamos verificar se existe predominância nas sanções por UF do Órgão Sancionador para cada tipo de pessoa. Começamos a análise com as sanções de pessoas físicas.\n",
    "</div>"
   ]
  },
  {
   "cell_type": "code",
   "execution_count": 12,
   "metadata": {},
   "outputs": [
    {
     "data": {
      "text/plain": [
       "SP    1278\n",
       "PR     335\n",
       "MG     307\n",
       "RS     272\n",
       "MA     259\n",
       "RN     234\n",
       "PE     226\n",
       "RJ     225\n",
       "PB     186\n",
       "GO     172\n",
       "Name: UF Órgão Sancionador, dtype: int64"
      ]
     },
     "execution_count": 12,
     "metadata": {},
     "output_type": "execute_result"
    }
   ],
   "source": [
    "uf_pf = dataset.loc[dataset[u\"Tipo de Pessoa\"] == \"Fisica\"][u\"UF Órgão Sancionador\"].value_counts().head(10)\n",
    "uf_pf"
   ]
  },
  {
   "cell_type": "markdown",
   "metadata": {},
   "source": [
    "#### Representação Gráfica - Pessoa Física"
   ]
  },
  {
   "cell_type": "code",
   "execution_count": 13,
   "metadata": {},
   "outputs": [
    {
     "data": {
      "image/png": "[encoded data removed]",
      "text/plain": [
       "<matplotlib.figure.Figure at 0x7fbcfe5e2150>"
      ]
     },
     "metadata": {},
     "output_type": "display_data"
    }
   ],
   "source": [
    "plt.figure(figsize=(16, 5))\n",
    "sns.barplot(uf_pf.index, uf_pf.values, alpha=0.8)\n",
    "plt.title(u\"UF Órgão Sancionador - Pessoa Física\")\n",
    "plt.ylabel(u\"Ocorrências\", fontsize=12)\n",
    "plt.xlabel(u\"Sanções por Estado\", fontsize=12)\n",
    "plt.show()"
   ]
  },
  {
   "cell_type": "markdown",
   "metadata": {},
   "source": [
    "<div style=\"text-align:justify\">\n",
    "Ao exibir os valores percentuais, notamos que mais de 25% das sanções relacionadas as pessoas físicas se originam no estado de São Paulo. Os demais estados representam menos de 7% cada.\n",
    "</div>"
   ]
  },
  {
   "cell_type": "code",
   "execution_count": 14,
   "metadata": {},
   "outputs": [
    {
     "data": {
      "text/plain": [
       "SP    0.258495\n",
       "PR    0.067759\n",
       "MG    0.062095\n",
       "RS    0.055016\n",
       "MA    0.052387\n",
       "Name: UF Órgão Sancionador, dtype: float64"
      ]
     },
     "execution_count": 14,
     "metadata": {},
     "output_type": "execute_result"
    }
   ],
   "source": [
    "dataset.loc[dataset[u\"Tipo de Pessoa\"] == \"Fisica\"][u\"UF Órgão Sancionador\"].value_counts(normalize=True).head(5)"
   ]
  },
  {
   "cell_type": "markdown",
   "metadata": {},
   "source": [
    "<div style=\"text-align:justify\">\n",
    "É interessante notar que quase 96% das sanções relacionadas a pessoas físicas dos estado de São Paulo são referentes a _Proibição - Lei de Improbidade_, ou seja, segue a mesmo percentual geral.\n",
    "</div>"
   ]
  },
  {
   "cell_type": "code",
   "execution_count": 15,
   "metadata": {},
   "outputs": [
    {
     "data": {
      "text/plain": [
       "Proibição - Lei de Improbidade                              0.958529\n",
       "Decisão judicial liminar/cautelar que impeça contratação    0.017214\n",
       "Suspensão - Lei de Licitações                               0.010172\n",
       "Inidoneidade - Lei de Licitações                            0.007825\n",
       "Impedimento - Lei do Pregão                                 0.006260\n",
       "Name: Tipo Sanção, dtype: float64"
      ]
     },
     "execution_count": 15,
     "metadata": {},
     "output_type": "execute_result"
    }
   ],
   "source": [
    "dataset.loc[ \\\n",
    "    (dataset[u\"Tipo de Pessoa\"] == \"Fisica\") & \\\n",
    "    (dataset[u\"UF Órgão Sancionador\"] == \"SP\") \\\n",
    "][u\"Tipo Sanção\"].value_counts(normalize=True).head(5)"
   ]
  },
  {
   "cell_type": "markdown",
   "metadata": {},
   "source": [
    "#### UR Órgão Sancionador - Pessoa Jurídica"
   ]
  },
  {
   "cell_type": "markdown",
   "metadata": {},
   "source": [
    "<div style=\"text-align:justify\">\n",
    "Quanto as sanções por UF do Órgão Sancionador para pessoa jurídica, notamos que os estados de São Paulo e Distrito Federal se destacam, seguidos da Bahia e Rio de Janeiro.\n",
    "</div>"
   ]
  },
  {
   "cell_type": "code",
   "execution_count": 16,
   "metadata": {},
   "outputs": [
    {
     "data": {
      "text/plain": [
       "DF    1653\n",
       "SP    1049\n",
       "BA     602\n",
       "RJ     459\n",
       "MG     427\n",
       "PR     404\n",
       "RS     392\n",
       "SC     194\n",
       "RN     146\n",
       "ES     124\n",
       "Name: UF Órgão Sancionador, dtype: int64"
      ]
     },
     "execution_count": 16,
     "metadata": {},
     "output_type": "execute_result"
    }
   ],
   "source": [
    "uf_pj = dataset.loc[dataset[u\"Tipo de Pessoa\"] == \"Juridica\"][u\"UF Órgão Sancionador\"].value_counts().head(10)\n",
    "uf_pj"
   ]
  },
  {
   "cell_type": "markdown",
   "metadata": {},
   "source": [
    "#### Representação Gráfica - Pessoa Jurídica"
   ]
  },
  {
   "cell_type": "code",
   "execution_count": 17,
   "metadata": {},
   "outputs": [
    {
     "data": {
      "image/png": "[encoded data removed]",
      "text/plain": [
       "<matplotlib.figure.Figure at 0x7fbcfe3dc7d0>"
      ]
     },
     "metadata": {},
     "output_type": "display_data"
    }
   ],
   "source": [
    "plt.figure(figsize=(16, 5))\n",
    "sns.barplot(uf_pj.index, uf_pj.values, alpha=0.8)\n",
    "plt.title(u\"UF Órgão Sancionador - Pessoa Jurídica\")\n",
    "plt.ylabel(u\"Ocorrências\", fontsize=12)\n",
    "plt.xlabel(u\"Sanções por Estado\", fontsize=12)\n",
    "plt.show()"
   ]
  },
  {
   "cell_type": "markdown",
   "metadata": {},
   "source": [
    "<div style=\"text-align:justify\">\n",
    "Ao exibir os valores percentuais, notamos que mais de 25% das sanções relacionadas as pessoas jurídicas se originam no estado do Distrito Federal, seguido de São Paulo com 15% e Bahia com 9%.\n",
    "</div>"
   ]
  },
  {
   "cell_type": "code",
   "execution_count": 18,
   "metadata": {},
   "outputs": [
    {
     "data": {
      "text/plain": [
       "DF    0.250341\n",
       "SP    0.158867\n",
       "BA    0.091171\n",
       "RJ    0.069514\n",
       "MG    0.064668\n",
       "Name: UF Órgão Sancionador, dtype: float64"
      ]
     },
     "execution_count": 18,
     "metadata": {},
     "output_type": "execute_result"
    }
   ],
   "source": [
    "dataset.loc[dataset[u\"Tipo de Pessoa\"] == \"Juridica\"][u\"UF Órgão Sancionador\"].value_counts(normalize=True).head(5)"
   ]
  },
  {
   "cell_type": "markdown",
   "metadata": {},
   "source": [
    "<div style=\"text-align:justify\">\n",
    "É interessante notar que aproximadamente 30% das sanções relacionadas a pessoas jurídica do estado do Distrito Federal são referentes a _Suspensão - Lei de Licitações_ e _Impedimento - Lei do Pregão_, ou seja, segue a mesmo percentual geral.\n",
    "</div>"
   ]
  },
  {
   "cell_type": "code",
   "execution_count": 19,
   "metadata": {},
   "outputs": [
    {
     "data": {
      "text/plain": [
       "Suspensão - Lei de Licitações         0.339988\n",
       "Impedimento - Lei do Pregão           0.284936\n",
       "Inidoneidade - Lei de Licitações      0.117967\n",
       "Inidoneidade - Lei da ANTT e ANTAQ    0.117967\n",
       "Inidoneidade - Lei Orgânica TCU       0.085299\n",
       "Name: Tipo Sanção, dtype: float64"
      ]
     },
     "execution_count": 19,
     "metadata": {},
     "output_type": "execute_result"
    }
   ],
   "source": [
    "dataset.loc[ \\\n",
    "    (dataset[u\"Tipo de Pessoa\"] == \"Juridica\") & \\\n",
    "    (dataset[u\"UF Órgão Sancionador\"] == \"DF\") \\\n",
    "][u\"Tipo Sanção\"].value_counts(normalize=True).head(5)"
   ]
  },
  {
   "cell_type": "markdown",
   "metadata": {},
   "source": [
    "### H5: Predominância por Origem da Informação"
   ]
  },
  {
   "cell_type": "markdown",
   "metadata": {},
   "source": [
    "#### Origem das Sanções de Pessoa Física"
   ]
  },
  {
   "cell_type": "markdown",
   "metadata": {},
   "source": [
    "<div style=\"text-align:justify\">\n",
    "Mais de 81% das sanções relacionadas a pessoas físicas são originadas no Conselho Nacional de Justiça. Os demais órgãos possuem menos de 6% cada. As sanções de pessoas físicas são predominantes a uma origem.\n",
    "</div>"
   ]
  },
  {
   "cell_type": "code",
   "execution_count": 20,
   "metadata": {},
   "outputs": [
    {
     "data": {
      "text/plain": [
       "Conselho Nacional de Justiça              0.815785\n",
       "Governo do Estado de São Paulo            0.055854\n",
       "Governo do Estado do Rio Grande do Sul    0.013183\n",
       "ADVOCACIA-GERAL DA UNIÃO                  0.009540\n",
       "Justiça do Estado de São Paulo            0.007806\n",
       "Name: Origem Informações, dtype: float64"
      ]
     },
     "execution_count": 20,
     "metadata": {},
     "output_type": "execute_result"
    }
   ],
   "source": [
    "dataset.loc[dataset[u\"Tipo de Pessoa\"] == \"Fisica\"][u\"Origem Informações\"].value_counts(normalize=True).head(5)"
   ]
  },
  {
   "cell_type": "markdown",
   "metadata": {},
   "source": [
    "#### Origem das Sanções de Pessoa Jurídica"
   ]
  },
  {
   "cell_type": "markdown",
   "metadata": {},
   "source": [
    "<div style=\"text-align:justify\">\n",
    "Não existe predominância na origem das sanções abertas para pessoas jurídicas.\n",
    "</div>"
   ]
  },
  {
   "cell_type": "code",
   "execution_count": 21,
   "metadata": {},
   "outputs": [
    {
     "data": {
      "text/plain": [
       "Governo do Estado de São Paulo                 0.100856\n",
       "Governo do Estado da Bahia (BA)                0.071028\n",
       "Conselho Nacional de Justiça                   0.069699\n",
       "AGÊNCIA NACIONAL DE TRANSPORTES TERRESTRES     0.031305\n",
       "EMPRESA BRASILEIRA DE CORREIOS E TELÉGRAFOS    0.028647\n",
       "Name: Origem Informações, dtype: float64"
      ]
     },
     "execution_count": 21,
     "metadata": {},
     "output_type": "execute_result"
    }
   ],
   "source": [
    "dataset.loc[dataset[u\"Tipo de Pessoa\"] == \"Juridica\"][u\"Origem Informações\"].value_counts(normalize=True).head(5)"
   ]
  },
  {
   "cell_type": "markdown",
   "metadata": {},
   "source": [
    "### Top 5 Pessoas Físicas e Jurídicas"
   ]
  },
  {
   "cell_type": "markdown",
   "metadata": {},
   "source": [
    "<div style=\"text-align:justify\">\n",
    "A seguir, as Top 5 pessoas físicas com maior número de sanções registradas:\n",
    "</div>"
   ]
  },
  {
   "cell_type": "code",
   "execution_count": 22,
   "metadata": {},
   "outputs": [
    {
     "data": {
      "text/plain": [
       "LUIZ ANTONIO TREVISAN VEDOIN    34\n",
       "DARCI JOSE VEDOIN               31\n",
       "VALTERCIDES MONTEIRO            11\n",
       "MARCOS PEREZ                    11\n",
       "GERSON GONCALVES CHICOUREL      10\n",
       "Name: Razão Social - Cadastro Receita, dtype: int64"
      ]
     },
     "execution_count": 22,
     "metadata": {},
     "output_type": "execute_result"
    }
   ],
   "source": [
    "dataset.loc[dataset[u\"Tipo de Pessoa\"] == \"Fisica\"][u\"Razão Social - Cadastro Receita\"].value_counts().head(5)"
   ]
  },
  {
   "cell_type": "markdown",
   "metadata": {},
   "source": [
    "<div style=\"text-align:justify\">\n",
    "A seguir, as Top 5 pessoas jurídicas com maior número de sanções registradas:\n",
    "</div>"
   ]
  },
  {
   "cell_type": "code",
   "execution_count": 23,
   "metadata": {},
   "outputs": [
    {
     "data": {
      "text/plain": [
       "VAN COOPER COOPERATIVA DE TRABALHO DOS TRANSPORTADORES RODOVIARIOS DE CARGAS, PASSAGEIROS E SERVICOS.    28\n",
       "SPEED  DISTRIBUIDORA E SERVICOS - EIRELI                                                                 23\n",
       "PH SERVICOS E ADMINISTRACAO LTDA                                                                         21\n",
       "COOPERSEMO COOPERATIVA DE SERVICOS DE TRANSPORTES                                                        18\n",
       "SANDES CONSERVACAO SERVICOS EIRELI                                                                       14\n",
       "Name: Razão Social - Cadastro Receita, dtype: int64"
      ]
     },
     "execution_count": 23,
     "metadata": {},
     "output_type": "execute_result"
    }
   ],
   "source": [
    "dataset.loc[dataset[u\"Tipo de Pessoa\"] == \"Juridica\"][u\"Razão Social - Cadastro Receita\"].value_counts().head(5)"
   ]
  },
  {
   "cell_type": "markdown",
   "metadata": {},
   "source": [
    "## Conclusões"
   ]
  },
  {
   "cell_type": "markdown",
   "metadata": {},
   "source": [
    "- As sanções estão bem distribuídas entre os tipos de pessoas, não existe predominância.\n",
    "- As sanções de Pessoa Física se destacam em proibição pela lei de improbidade.\n",
    "- As sanções de Pessoas Jurídicas se concentram em irregularidaes em licitações e pregões.\n",
    "- Não existe predominância por órgão sancionador.\n",
    "- É predominante o número de sanções relacionadas a pessoas físicas no estado de São Paulo.\n",
    "- As sanções relacionadas a pessoas jurídicas ocorrem com mais frequência no Distrito Federal e em São Paulo.\n",
    "- Não existe prodominância da UF da sanção para pessoa jurídica, mas para pessoa física existe."
   ]
  },
  {
   "cell_type": "markdown",
   "metadata": {},
   "source": [
    "## Próximos Passos"
   ]
  },
  {
   "cell_type": "markdown",
   "metadata": {},
   "source": [
    "- Localizar pagamentos e transações realizados para alguma das pessoas físicas ou jurídicas relacioadas.\n",
    "- Elencar as fontes abertas para recuperação de features das pessoas físicas e jurídicas.\n",
    "- Coletar dados features e compor um vetor de características.\n",
    "- Aplicar uma análise de variância para entender o grau discriminativo de cada feature.\n",
    "- Criar um modelo de classificação e medir a performance."
   ]
  },
  {
   "cell_type": "code",
   "execution_count": null,
   "metadata": {},
   "outputs": [],
   "source": []
  }
 ],
 "metadata": {
  "kernelspec": {
   "display_name": "Python 2",
   "language": "python",
   "name": "python2"
  },
  "language_info": {
   "codemirror_mode": {
    "name": "ipython",
    "version": 2
   },
   "file_extension": ".py",
   "mimetype": "text/x-python",
   "name": "python",
   "nbconvert_exporter": "python",
   "pygments_lexer": "ipython2",
   "version": "2.7.12"
  }
 },
 "nbformat": 4,
 "nbformat_minor": 2
}
