{
 "cells": [
  {
   "cell_type": "markdown",
   "metadata": {},
   "source": [
    "# Pagamentos para Empresas Sancionadas"
   ]
  },
  {
   "cell_type": "markdown",
   "metadata": {},
   "source": [
    "<div style=\"text-align:justify\">\n",
    "Este notebook procura e relaciona registros de pagamentos para empresas punidas, impedidas ou sancionadas. Os registros de pagamentos estão disponǘeis no Portal da Transparência, através do [link](\"http://www.portaltransparencia.gov.br/downloads/mensal.asp?c=GastosDiretos\")\n",
    "</div>"
   ]
  },
  {
   "cell_type": "markdown",
   "metadata": {},
   "source": [
    "## Carregando Pacotes"
   ]
  },
  {
   "cell_type": "code",
   "execution_count": 18,
   "metadata": {},
   "outputs": [
    {
     "name": "stdout",
     "output_type": "stream",
     "text": [
      "Populating the interactive namespace from numpy and matplotlib\n"
     ]
    }
   ],
   "source": [
    "import matplotlib.pyplot as plt\n",
    "import pandas as pd\n",
    "import seaborn as sns\n",
    "\n",
    "import unicodedata\n",
    "import re\n",
    "\n",
    "%matplotlib inline\n",
    "%pylab inline"
   ]
  },
  {
   "cell_type": "markdown",
   "metadata": {},
   "source": [
    "## Descompactando Arquivos"
   ]
  },
  {
   "cell_type": "markdown",
   "metadata": {},
   "source": [
    "<div style=\"text-align:justify\">\n",
    "Os registros de pagamentos estão compactados para viabilizar o armazenamento no repositório de códigos GitHub. A rotina abaixo descompacta todos os arquivos para que possam ser processados, no formato CSV.\n",
    "</div>"
   ]
  },
  {
   "cell_type": "code",
   "execution_count": 2,
   "metadata": {},
   "outputs": [],
   "source": [
    "! for i in *.tar.gz; do tar -zxf $i; done"
   ]
  },
  {
   "cell_type": "markdown",
   "metadata": {},
   "source": [
    "## Pagamentos 2017"
   ]
  },
  {
   "cell_type": "markdown",
   "metadata": {},
   "source": [
    "<div style=\"text-align:justify\">\n",
    "A seguir, carregamos os pagamentos referentes ao ano de 2017.\n",
    "</div>"
   ]
  },
  {
   "cell_type": "code",
   "execution_count": 3,
   "metadata": {},
   "outputs": [
    {
     "name": "stderr",
     "output_type": "stream",
     "text": [
      "/usr/local/lib/python2.7/dist-packages/IPython/core/interactiveshell.py:2718: DtypeWarning: Columns (1,12,15) have mixed types. Specify dtype option on import or set low_memory=False.\n",
      "  interactivity=interactivity, compiler=compiler, result=result)\n",
      "/usr/local/lib/python2.7/dist-packages/IPython/core/interactiveshell.py:2718: DtypeWarning: Columns (1,12) have mixed types. Specify dtype option on import or set low_memory=False.\n",
      "  interactivity=interactivity, compiler=compiler, result=result)\n",
      "/usr/local/lib/python2.7/dist-packages/IPython/core/interactiveshell.py:2718: DtypeWarning: Columns (1,9,11,12,15) have mixed types. Specify dtype option on import or set low_memory=False.\n",
      "  interactivity=interactivity, compiler=compiler, result=result)\n"
     ]
    }
   ],
   "source": [
    "# pagamentos 2017\n",
    "ds1701 = pd.read_csv(\"201701_Transferencias.csv\", sep='\\t', encoding='latin1')\n",
    "ds1702 = pd.read_csv(\"201702_Transferencias.csv\", sep='\\t', encoding='latin1')\n",
    "ds1703 = pd.read_csv(\"201703_Transferencias.csv\", sep='\\t', encoding='latin1')\n",
    "ds1704 = pd.read_csv(\"201704_Transferencias.csv\", sep='\\t', encoding='latin1')\n",
    "ds1705 = pd.read_csv(\"201705_Transferencias.csv\", sep='\\t', encoding='latin1')\n",
    "ds1706 = pd.read_csv(\"201706_Transferencias.csv\", sep='\\t', encoding='latin1')\n",
    "ds1707 = pd.read_csv(\"201707_Transferencias.csv\", sep='\\t', encoding='latin1')\n",
    "ds1708 = pd.read_csv(\"201708_Transferencias.csv\", sep='\\t', encoding='latin1')\n",
    "ds1709 = pd.read_csv(\"201709_Transferencias.csv\", sep='\\t', encoding='latin1')\n",
    "ds1710 = pd.read_csv(\"201710_Transferencias.csv\", sep='\\t', encoding='latin1')\n",
    "ds1711 = pd.read_csv(\"201711_Transferencias.csv\", sep='\\t', encoding='latin1')\n",
    "ds1712 = pd.read_csv(\"201712_Transferencias.csv\", sep='\\t', encoding='latin1')"
   ]
  },
  {
   "cell_type": "markdown",
   "metadata": {},
   "source": [
    "## Pagamentos 2016"
   ]
  },
  {
   "cell_type": "markdown",
   "metadata": {},
   "source": [
    "<div style=\"text-align:justify\">\n",
    "A seguir, carregamos os pagamentos referentes ao ano de 2016.\n",
    "</div>"
   ]
  },
  {
   "cell_type": "code",
   "execution_count": 4,
   "metadata": {},
   "outputs": [
    {
     "name": "stderr",
     "output_type": "stream",
     "text": [
      "/usr/local/lib/python2.7/dist-packages/IPython/core/interactiveshell.py:2718: DtypeWarning: Columns (1,9,12,15) have mixed types. Specify dtype option on import or set low_memory=False.\n",
      "  interactivity=interactivity, compiler=compiler, result=result)\n"
     ]
    }
   ],
   "source": [
    "# pagamentos 2016\n",
    "ds1601 = pd.read_csv(\"201601_Transferencias.csv\", sep='\\t', encoding='latin1')\n",
    "ds1602 = pd.read_csv(\"201602_Transferencias.csv\", sep='\\t', encoding='latin1')\n",
    "ds1603 = pd.read_csv(\"201603_Transferencias.csv\", sep='\\t', encoding='latin1')\n",
    "ds1604 = pd.read_csv(\"201604_Transferencias.csv\", sep='\\t', encoding='latin1')\n",
    "ds1605 = pd.read_csv(\"201605_Transferencias.csv\", sep='\\t', encoding='latin1')\n",
    "ds1606 = pd.read_csv(\"201606_Transferencias.csv\", sep='\\t', encoding='latin1')\n",
    "ds1607 = pd.read_csv(\"201607_Transferencias.csv\", sep='\\t', encoding='latin1')\n",
    "ds1608 = pd.read_csv(\"201608_Transferencias.csv\", sep='\\t', encoding='latin1')\n",
    "ds1609 = pd.read_csv(\"201609_Transferencias.csv\", sep='\\t', encoding='latin1')\n",
    "ds1610 = pd.read_csv(\"201610_Transferencias.csv\", sep='\\t', encoding='latin1')\n",
    "ds1611 = pd.read_csv(\"201611_Transferencias.csv\", sep='\\t', encoding='latin1')\n",
    "ds1612 = pd.read_csv(\"201612_Transferencias.csv\", sep='\\t', encoding='latin1')"
   ]
  },
  {
   "cell_type": "markdown",
   "metadata": {},
   "source": [
    "## Pagamentos 2015"
   ]
  },
  {
   "cell_type": "markdown",
   "metadata": {},
   "source": [
    "<div style=\"text-align:justify\">\n",
    "A seguir, carregamos os pagamentos referentes ao ano de 2015.\n",
    "</div>"
   ]
  },
  {
   "cell_type": "code",
   "execution_count": 5,
   "metadata": {},
   "outputs": [],
   "source": [
    "# pagamentos 2015\n",
    "ds1501 = pd.read_csv(\"201501_Transferencias.csv\", sep='\\t', encoding='latin1')\n",
    "ds1502 = pd.read_csv(\"201502_Transferencias.csv\", sep='\\t', encoding='latin1')\n",
    "ds1503 = pd.read_csv(\"201503_Transferencias.csv\", sep='\\t', encoding='latin1')\n",
    "ds1504 = pd.read_csv(\"201504_Transferencias.csv\", sep='\\t', encoding='latin1')\n",
    "ds1505 = pd.read_csv(\"201505_Transferencias.csv\", sep='\\t', encoding='latin1')\n",
    "ds1506 = pd.read_csv(\"201506_Transferencias.csv\", sep='\\t', encoding='latin1')\n",
    "ds1507 = pd.read_csv(\"201507_Transferencias.csv\", sep='\\t', encoding='latin1')\n",
    "ds1508 = pd.read_csv(\"201508_Transferencias.csv\", sep='\\t', encoding='latin1')\n",
    "ds1509 = pd.read_csv(\"201509_Transferencias.csv\", sep='\\t', encoding='latin1')\n",
    "ds1510 = pd.read_csv(\"201510_Transferencias.csv\", sep='\\t', encoding='latin1')\n",
    "ds1511 = pd.read_csv(\"201511_Transferencias.csv\", sep='\\t', encoding='latin1')\n",
    "ds1512 = pd.read_csv(\"201512_Transferencias.csv\", sep='\\t', encoding='latin1')"
   ]
  },
  {
   "cell_type": "markdown",
   "metadata": {},
   "source": [
    "## Pagamentos 2014"
   ]
  },
  {
   "cell_type": "markdown",
   "metadata": {},
   "source": [
    "<div style=\"text-align:justify\">\n",
    "A seguir, carregamos os pagamentos referentes ao ano de 2014.\n",
    "</div>"
   ]
  },
  {
   "cell_type": "code",
   "execution_count": 6,
   "metadata": {},
   "outputs": [
    {
     "name": "stderr",
     "output_type": "stream",
     "text": [
      "/usr/local/lib/python2.7/dist-packages/IPython/core/interactiveshell.py:2718: DtypeWarning: Columns (12) have mixed types. Specify dtype option on import or set low_memory=False.\n",
      "  interactivity=interactivity, compiler=compiler, result=result)\n"
     ]
    }
   ],
   "source": [
    "# pagamentos 2014\n",
    "ds1401 = pd.read_csv(\"201401_Transferencias.csv\", sep='\\t', encoding='latin1')\n",
    "ds1402 = pd.read_csv(\"201402_Transferencias.csv\", sep='\\t', encoding='latin1')\n",
    "ds1403 = pd.read_csv(\"201403_Transferencias.csv\", sep='\\t', encoding='latin1')\n",
    "ds1404 = pd.read_csv(\"201404_Transferencias.csv\", sep='\\t', encoding='latin1')\n",
    "ds1405 = pd.read_csv(\"201405_Transferencias.csv\", sep='\\t', encoding='latin1')\n",
    "ds1406 = pd.read_csv(\"201406_Transferencias.csv\", sep='\\t', encoding='latin1')\n",
    "ds1407 = pd.read_csv(\"201407_Transferencias.csv\", sep='\\t', encoding='latin1')\n",
    "ds1408 = pd.read_csv(\"201408_Transferencias.csv\", sep='\\t', encoding='latin1')\n",
    "ds1409 = pd.read_csv(\"201409_Transferencias.csv\", sep='\\t', encoding='latin1')\n",
    "ds1410 = pd.read_csv(\"201410_Transferencias.csv\", sep='\\t', encoding='latin1')\n",
    "ds1411 = pd.read_csv(\"201411_Transferencias.csv\", sep='\\t', encoding='latin1')\n",
    "ds1412 = pd.read_csv(\"201412_Transferencias.csv\", sep='\\t', encoding='latin1')"
   ]
  },
  {
   "cell_type": "markdown",
   "metadata": {},
   "source": [
    "## Pagamentos 2013"
   ]
  },
  {
   "cell_type": "markdown",
   "metadata": {},
   "source": [
    "<div style=\"text-align:justify\">\n",
    "A seguir, carregamos os pagamentos referentes ao ano de 2013.\n",
    "</div>"
   ]
  },
  {
   "cell_type": "code",
   "execution_count": 7,
   "metadata": {},
   "outputs": [],
   "source": [
    "# pagamentos 2013\n",
    "ds1301 = pd.read_csv(\"201301_Transferencias.csv\", sep='\\t', encoding='latin1')\n",
    "ds1302 = pd.read_csv(\"201302_Transferencias.csv\", sep='\\t', encoding='latin1')\n",
    "ds1303 = pd.read_csv(\"201303_Transferencias.csv\", sep='\\t', encoding='latin1')\n",
    "ds1304 = pd.read_csv(\"201304_Transferencias.csv\", sep='\\t', encoding='latin1')\n",
    "ds1305 = pd.read_csv(\"201305_Transferencias.csv\", sep='\\t', encoding='latin1')\n",
    "ds1306 = pd.read_csv(\"201306_Transferencias.csv\", sep='\\t', encoding='latin1')\n",
    "ds1307 = pd.read_csv(\"201307_Transferencias.csv\", sep='\\t', encoding='latin1')\n",
    "ds1308 = pd.read_csv(\"201308_Transferencias.csv\", sep='\\t', encoding='latin1')\n",
    "ds1309 = pd.read_csv(\"201309_Transferencias.csv\", sep='\\t', encoding='latin1')\n",
    "ds1310 = pd.read_csv(\"201310_Transferencias.csv\", sep='\\t', encoding='latin1')\n",
    "ds1311 = pd.read_csv(\"201311_Transferencias.csv\", sep='\\t', encoding='latin1')\n",
    "ds1312 = pd.read_csv(\"201312_Transferencias.csv\", sep='\\t', encoding='latin1')"
   ]
  },
  {
   "cell_type": "markdown",
   "metadata": {},
   "source": [
    "## Pagamentos 2012"
   ]
  },
  {
   "cell_type": "markdown",
   "metadata": {},
   "source": [
    "<div style=\"text-align:justify\">\n",
    "A seguir, carregamos os pagamentos referentes ao ano de 2012.\n",
    "</div>"
   ]
  },
  {
   "cell_type": "code",
   "execution_count": 8,
   "metadata": {},
   "outputs": [],
   "source": [
    "# pagamentos 2012\n",
    "ds1201 = pd.read_csv(\"201201_Transferencias.csv\", sep='\\t', encoding='latin1')\n",
    "ds1202 = pd.read_csv(\"201202_Transferencias.csv\", sep='\\t', encoding='latin1')\n",
    "ds1203 = pd.read_csv(\"201203_Transferencias.csv\", sep='\\t', encoding='latin1')\n",
    "ds1204 = pd.read_csv(\"201204_Transferencias.csv\", sep='\\t', encoding='latin1')\n",
    "ds1205 = pd.read_csv(\"201205_Transferencias.csv\", sep='\\t', encoding='latin1')\n",
    "ds1206 = pd.read_csv(\"201206_Transferencias.csv\", sep='\\t', encoding='latin1')\n",
    "ds1207 = pd.read_csv(\"201207_Transferencias.csv\", sep='\\t', encoding='latin1')\n",
    "ds1208 = pd.read_csv(\"201208_Transferencias.csv\", sep='\\t', encoding='latin1')\n",
    "ds1209 = pd.read_csv(\"201209_Transferencias.csv\", sep='\\t', encoding='latin1')\n",
    "ds1210 = pd.read_csv(\"201210_Transferencias.csv\", sep='\\t', encoding='latin1')\n",
    "ds1211 = pd.read_csv(\"201211_Transferencias.csv\", sep='\\t', encoding='latin1')\n",
    "ds1212 = pd.read_csv(\"201212_Transferencias.csv\", sep='\\t', encoding='latin1')"
   ]
  },
  {
   "cell_type": "markdown",
   "metadata": {},
   "source": [
    "## Pagamentos 2011"
   ]
  },
  {
   "cell_type": "markdown",
   "metadata": {},
   "source": [
    "<div style=\"text-align:justify\">\n",
    "A seguir, carregamos os pagamentos referentes ao ano de 2011.\n",
    "</div>"
   ]
  },
  {
   "cell_type": "code",
   "execution_count": 9,
   "metadata": {},
   "outputs": [
    {
     "name": "stderr",
     "output_type": "stream",
     "text": [
      "/usr/local/lib/python2.7/dist-packages/IPython/core/interactiveshell.py:2718: DtypeWarning: Columns (7,12) have mixed types. Specify dtype option on import or set low_memory=False.\n",
      "  interactivity=interactivity, compiler=compiler, result=result)\n",
      "/usr/local/lib/python2.7/dist-packages/IPython/core/interactiveshell.py:2718: DtypeWarning: Columns (1,7,12) have mixed types. Specify dtype option on import or set low_memory=False.\n",
      "  interactivity=interactivity, compiler=compiler, result=result)\n",
      "/usr/local/lib/python2.7/dist-packages/IPython/core/interactiveshell.py:2718: DtypeWarning: Columns (1,7) have mixed types. Specify dtype option on import or set low_memory=False.\n",
      "  interactivity=interactivity, compiler=compiler, result=result)\n"
     ]
    }
   ],
   "source": [
    "# pagamentos 2011\n",
    "ds1101 = pd.read_csv(\"201101_Transferencias.csv\", sep='\\t', encoding='latin1')\n",
    "ds1102 = pd.read_csv(\"201102_Transferencias.csv\", sep='\\t', encoding='latin1')\n",
    "ds1103 = pd.read_csv(\"201103_Transferencias.csv\", sep='\\t', encoding='latin1')\n",
    "ds1104 = pd.read_csv(\"201104_Transferencias.csv\", sep='\\t', encoding='latin1')\n",
    "ds1105 = pd.read_csv(\"201105_Transferencias.csv\", sep='\\t', encoding='latin1')\n",
    "ds1106 = pd.read_csv(\"201106_Transferencias.csv\", sep='\\t', encoding='latin1')\n",
    "ds1107 = pd.read_csv(\"201107_Transferencias.csv\", sep='\\t', encoding='latin1')\n",
    "ds1108 = pd.read_csv(\"201108_Transferencias.csv\", sep='\\t', encoding='latin1')\n",
    "ds1109 = pd.read_csv(\"201109_Transferencias.csv\", sep='\\t', encoding='latin1')\n",
    "ds1110 = pd.read_csv(\"201110_Transferencias.csv\", sep='\\t', encoding='latin1')\n",
    "ds1111 = pd.read_csv(\"201111_Transferencias.csv\", sep='\\t', encoding='latin1')\n",
    "ds1112 = pd.read_csv(\"201112_Transferencias.csv\", sep='\\t', encoding='latin1')"
   ]
  },
  {
   "cell_type": "markdown",
   "metadata": {},
   "source": [
    "## Unindo Datasets"
   ]
  },
  {
   "cell_type": "markdown",
   "metadata": {},
   "source": [
    "<div style=\"text-align:justify\">\n",
    "A seguir, unimos todos os datasets para facilitar a localização dos pagamentos de empresas sancionadas.\n",
    "</div>"
   ]
  },
  {
   "cell_type": "code",
   "execution_count": 10,
   "metadata": {},
   "outputs": [],
   "source": [
    "pagamentos = pd.concat( \\\n",
    "    [ds1701, ds1702, ds1703, ds1704, ds1705, ds1706, \\\n",
    "     ds1707, ds1708, ds1709, ds1710, ds1711, ds1712, \\\n",
    "     ds1601, ds1602, ds1603, ds1604, ds1605, ds1606, \\\n",
    "     ds1607, ds1608, ds1609, ds1610, ds1611, ds1612, \\\n",
    "     ds1501, ds1502, ds1503, ds1504, ds1505, ds1506, \\\n",
    "     ds1507, ds1508, ds1509, ds1510, ds1511, ds1512, \\\n",
    "     ds1401, ds1402, ds1403, ds1404, ds1405, ds1406, \\\n",
    "     ds1407, ds1408, ds1409, ds1410, ds1411, ds1412, \\\n",
    "     ds1301, ds1302, ds1303, ds1304, ds1305, ds1306, \\\n",
    "     ds1307, ds1308, ds1309, ds1310, ds1311, ds1312, \\\n",
    "     ds1201, ds1202, ds1203, ds1204, ds1205, ds1206, \\\n",
    "     ds1207, ds1208, ds1209, ds1210, ds1211, ds1212, \\\n",
    "     ds1101, ds1102, ds1103, ds1104, ds1105, ds1106, \\\n",
    "     ds1107, ds1108, ds1109, ds1110, ds1111, ds1112])"
   ]
  },
  {
   "cell_type": "markdown",
   "metadata": {},
   "source": [
    "## Empesas Sancionadas"
   ]
  },
  {
   "cell_type": "markdown",
   "metadata": {},
   "source": [
    "<div style=\"text-align:justify\">\n",
    "Carregando os dados das empresas sancionadas.\n",
    "</div>"
   ]
  },
  {
   "cell_type": "code",
   "execution_count": 11,
   "metadata": {},
   "outputs": [],
   "source": [
    "empresas = pd.read_csv(\"../sancoes/20180331_CEIS.csv\", sep=';', encoding='latin1')"
   ]
  },
  {
   "cell_type": "markdown",
   "metadata": {},
   "source": [
    "## Join Data"
   ]
  },
  {
   "cell_type": "markdown",
   "metadata": {},
   "source": [
    "<div style=\"text-align:justify\">\n",
    "Relacionando empresas sancionadas e pagamentos realizados pelo Governo Federal\n",
    "</div>"
   ]
  },
  {
   "cell_type": "code",
   "execution_count": 12,
   "metadata": {},
   "outputs": [],
   "source": [
    "dataset = pd.merge(pagamentos, empresas \\\n",
    "    , how='inner' \\\n",
    "    , left_on=u\"Codigo Favorecido\" \\\n",
    "    , right_on=u\"CPF ou CNPJ do Sancionado\")"
   ]
  },
  {
   "cell_type": "markdown",
   "metadata": {},
   "source": [
    "## Removendo Arquivos Extraídos"
   ]
  },
  {
   "cell_type": "markdown",
   "metadata": {},
   "source": [
    "<div style=\"text-align:justify\">\n",
    "Removendo os arquivos de pagamentos descompactados para realizar o processamento dos dados.\n",
    "</div>"
   ]
  },
  {
   "cell_type": "code",
   "execution_count": 13,
   "metadata": {},
   "outputs": [],
   "source": [
    "! rm *.csv"
   ]
  },
  {
   "cell_type": "markdown",
   "metadata": {},
   "source": [
    "## Salvando Pagamentos Relacionados"
   ]
  },
  {
   "cell_type": "markdown",
   "metadata": {},
   "source": [
    "<div style=\"text-align:justify\">\n",
    "Salvando dados de pagamentos relacionados as empresas sancionadas.\n",
    "</div>"
   ]
  },
  {
   "cell_type": "code",
   "execution_count": 14,
   "metadata": {},
   "outputs": [],
   "source": [
    "dataset.to_csv(\"payments.csv\", sep=\"\\t\", encoding=\"latin1\")"
   ]
  },
  {
   "cell_type": "markdown",
   "metadata": {},
   "source": [
    "## Dados Salvos"
   ]
  },
  {
   "cell_type": "markdown",
   "metadata": {},
   "source": [
    "<div style=\"text-align:justify\">\n",
    "A seguir, os dados salvos em arquivo CSV. 2790 registros de pagamentos foram relacionados com empresas sancionadas, impedidas ou punidas. Segue a lista de atributos registrados dos pagamentos e das empresas.\n",
    "</div>"
   ]
  },
  {
   "cell_type": "code",
   "execution_count": 16,
   "metadata": {},
   "outputs": [
    {
     "data": {
      "text/plain": [
       "Sigla Unidade Federação                     2790\n",
       "Codigo SIAFI Municipio                      2790\n",
       "Nome Municipio                              2790\n",
       "Codigo Funcao                               2790\n",
       "Nome Funcao                                 2790\n",
       "Codigo Sub Funcao                           2790\n",
       "Nome Sub Funcao                             2790\n",
       "Codigo Programa                             2790\n",
       "Nome Programa                               2790\n",
       "Codigo Acao                                 2790\n",
       "Nome Acao                                   2790\n",
       "Linguagem Cidadã                            1829\n",
       "Codigo Favorecido                           2790\n",
       "Nome Favorecido                             2790\n",
       "Fonte-Finalidade                            2790\n",
       "Modalidade Aplicação                        1482\n",
       "Número Convênio                              575\n",
       "Valor Parcela                               2790\n",
       "Tipo de Pessoa                              2790\n",
       "CPF ou CNPJ do Sancionado                   2790\n",
       "Nome Informado pelo Órgão Sancionador       2790\n",
       "Razão Social - Cadastro Receita             2790\n",
       "Nome Fantasia - Cadastro Receita            2784\n",
       "Número do processo                          2790\n",
       "Tipo Sanção                                 2790\n",
       "Data Início Sanção                          2790\n",
       "Data Final Sanção                           2778\n",
       "Órgão Sancionador                           2790\n",
       "UF Órgão Sancionador                        1969\n",
       "Origem Informações                          2790\n",
       "Data Origem Informações                     2790\n",
       "Data Publicação                             1029\n",
       "Publicação                                  1039\n",
       "Detalhamento                                   0\n",
       "Abrangência definida em decisão judicial    1025\n",
       "Fundamentação Legal                         2780\n",
       "Descrição da Fundamentação Legal            2780\n",
       "Data do Trânsito em Julgado                 1751\n",
       "Complemento do Órgão                         830\n",
       "Contato da Origem da Informação             2790\n",
       "dtype: int64"
      ]
     },
     "execution_count": 16,
     "metadata": {},
     "output_type": "execute_result"
    }
   ],
   "source": [
    "dataset.count()"
   ]
  },
  {
   "cell_type": "code",
   "execution_count": null,
   "metadata": {},
   "outputs": [],
   "source": []
  }
 ],
 "metadata": {
  "kernelspec": {
   "display_name": "Python 2",
   "language": "python",
   "name": "python2"
  },
  "language_info": {
   "codemirror_mode": {
    "name": "ipython",
    "version": 2
   },
   "file_extension": ".py",
   "mimetype": "text/x-python",
   "name": "python",
   "nbconvert_exporter": "python",
   "pygments_lexer": "ipython2",
   "version": "2.7.12"
  }
 },
 "nbformat": 4,
 "nbformat_minor": 2
}
